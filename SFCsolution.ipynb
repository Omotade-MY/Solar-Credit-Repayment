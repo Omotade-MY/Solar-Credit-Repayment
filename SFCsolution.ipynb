{
 "cells": [
  {
   "cell_type": "markdown",
   "id": "cc53f024",
   "metadata": {},
   "source": [
    "## Project structure"
   ]
  },
  {
   "cell_type": "markdown",
   "id": "d28b1f42",
   "metadata": {},
   "source": [
    "├── data\\\n",
    "│   ├── metadata.csv\\\n",
    "│   ├── SampleSubmission.csv\\\n",
    "│   ├── Test.csv\\\n",
    "│   ├── Train.csv\\\n",
    "│   └── VariablesDefinition.txt\\\n",
    "├── logs\\\n",
    "├── models\\\n",
    "├── src\\\n",
    "│   └── StarterNotebook.ipynb\\\n",
    "└── submissions\n"
   ]
  },
  {
   "cell_type": "markdown",
   "id": "5a1b885d",
   "metadata": {},
   "source": [
    "## Libs"
   ]
  },
  {
   "cell_type": "code",
   "execution_count": 1,
   "id": "639332ba",
   "metadata": {
    "tags": []
   },
   "outputs": [
    {
     "name": "stderr",
     "output_type": "stream",
     "text": [
      "INFO:root:Using tensorflow version : 2.3.0\n"
     ]
    }
   ],
   "source": [
    "import os\n",
    "import ast\n",
    "import pandas as pd\n",
    "import numpy as np\n",
    "from matplotlib import pyplot as plt\n",
    "import matplotlib.patches as mpatches\n",
    "import seaborn as sns\n",
    "from tqdm.std import tqdm\n",
    "from sklearn.model_selection import train_test_split\n",
    "from sklearn.linear_model import LogisticRegression, LinearRegression\n",
    "import xgboost\n",
    "\n",
    "import lightgbm\n",
    "from sklearn.tree import DecisionTreeClassifier, DecisionTreeRegressor\n",
    "from sklearn.ensemble import RandomForestClassifier, RandomForestRegressor, GradientBoostingClassifier, GradientBoostingRegressor\n",
    "\n",
    "from sklearn.preprocessing import StandardScaler, LabelEncoder\n",
    "import tensorflow as tf\n",
    "from keras.models import Sequential\n",
    "from keras.layers import Dense, Dropout,Conv2D,MaxPool2D, LSTM\n",
    "from sklearn.model_selection import KFold\n",
    "from sklearn.metrics import accuracy_score, mean_squared_error\n",
    "from keras.wrappers.scikit_learn import KerasRegressor, KerasClassifier\n",
    "from tensorflow import keras\n",
    "\n",
    "import logging\n",
    "logging.basicConfig(level='INFO')\n",
    "\n",
    "\n",
    "logging.info(msg=f\"Using tensorflow version : {tf.__version__}\")"
   ]
  },
  {
   "cell_type": "code",
   "execution_count": 2,
   "id": "e0e2d501",
   "metadata": {
    "tags": []
   },
   "outputs": [],
   "source": [
    "import warnings\n",
    "warnings.filterwarnings(action=\"ignore\")"
   ]
  },
  {
   "cell_type": "code",
   "execution_count": 3,
   "id": "7734f17d",
   "metadata": {},
   "outputs": [],
   "source": [
    "# seed everything seedable\n",
    "s = 42\n",
    "from random import seed\n",
    "from tensorflow.random import set_seed\n",
    "set_seed(s)\n",
    "seed(s)\n",
    "np.random.seed(s)"
   ]
  },
  {
   "cell_type": "markdown",
   "id": "08179847",
   "metadata": {},
   "source": [
    "## Config & Helpers funcs"
   ]
  },
  {
   "cell_type": "code",
   "execution_count": 4,
   "id": "d6226474",
   "metadata": {
    "tags": []
   },
   "outputs": [],
   "source": [
    "class Config:\n",
    "    data_dir = '../data/'\n",
    "    working_dir = '../src/'\n",
    "    models_dir = '../models/'\n",
    "    submissions_dir = '../submissions'\n",
    "\n",
    "\n",
    "def create_target(df:pd.DataFrame, window:int=2):\n",
    "    \n",
    "    \"\"\"\n",
    "    Compute a target column : this column will be the answer to the following question\n",
    "    (Did the company receive a payment after the term date + (window * term) days) and (total amount paid so far grater that 60% of contract value) ? \n",
    "                                        \n",
    "                        ********************************************************************\n",
    "                                                    DISCLAIMER\n",
    "                        ********************************************************************\n",
    "                                        \n",
    "        This target may not be accurate...anyway, you should create your own target to predict contract status \n",
    "                    since your end model is not evaluated on this task (predicting contract status)\n",
    "\n",
    "                        ********************************************************************\n",
    "                                                    DISCLAIMER\n",
    "                        ********************************************************************\n",
    "\n",
    "        Parameters\n",
    "        ----------\n",
    "            df : pandas dataframe - like\n",
    "                dataframe to add targets to. (should contain the payments history)\n",
    "                \n",
    "            window : int\n",
    "                number of repeated term(s) to look at\n",
    "                \n",
    "        Returns\n",
    "        -------\n",
    "        \n",
    "            df : pandas dataframe - like\n",
    "                dataframe with a 'Target' column\n",
    "    \"\"\"\n",
    "    try:\n",
    "        df = df.copy()\n",
    "        \n",
    "        df[\"ExpectedTermDate\"] = pd.to_datetime(df[\"ExpectedTermDate\"]) + pd.to_timedelta(pd.np.ceil(df.Term*window), unit=\"D\")\n",
    "        df[\"LastPaymentDate\"] = pd.to_datetime(df[\"LastPaymentDate\"]).dt.tz_localize(None)\n",
    "        \n",
    "        targets = []\n",
    "        \n",
    "        for r in df.iterrows():\n",
    "            r = r[1]\n",
    "            target = ((100 * sum(ast.literal_eval(r.PaymentsHistory)) // r.TotalContractValue)>=60.) and (r.LastPaymentDate < r.ExpectedTermDate)\n",
    "            targets.append(float(target))\n",
    "            \n",
    "        df[\"Target\"] = targets\n",
    "        \n",
    "        del targets\n",
    "    \n",
    "        return df\n",
    "    \n",
    "    except Exception as ex:\n",
    "        logging.error(msg=f'{ex}')\n",
    "        \n",
    "        return None\n",
    "\n",
    "\n",
    "def get_viz(df:pd.DataFrame):\n",
    "    \"\"\"\n",
    "        Make a simple Visialization of some variables\n",
    "        \n",
    "    Parameters\n",
    "    ----------\n",
    "        df : pandas dataframe - like\n",
    "            metadata dataframe\n",
    "            \n",
    "    Returns\n",
    "    -------\n",
    "        fig : Matplotlib Figure - like\n",
    "    \"\"\"\n",
    "    \n",
    "    fig, axes = pyplot.subplots(figsize=(25, 15), nrows=2, ncols=3)\n",
    "\n",
    "    # class distrib\n",
    "    axes[0, 0].set_title(label='Good/Bad payer countplot')\n",
    "\n",
    "    sn.countplot(x=df.Target,ax=axes[0, 0])\n",
    "\n",
    "    vals = df.Target.value_counts().values.tolist()\n",
    "    vals.reverse()\n",
    "    for a,p in zip(vals, axes[0, 0].patches):\n",
    "        axes[0, 0].annotate(\n",
    "            xy=(p.get_x() + p.get_width() / 2., p.get_height()), \n",
    "            s=a,\n",
    "            ha='center', \n",
    "            va='center', \n",
    "            fontsize=13, \n",
    "            color='black', \n",
    "            xytext=(1, 5),\n",
    "            textcoords='offset points'\n",
    "        )\n",
    "\n",
    "    bad_patch = mpatches.Patch(color='#1f77b4', label='Bad')\n",
    "    good_patch = mpatches.Patch(color='orange', label='Good')\n",
    "\n",
    "    axes[0, 0].legend(handles=[bad_patch, good_patch])\n",
    "\n",
    "    # regions distrib\n",
    "    axes[0, 1].set_title(label='Region distribution')\n",
    "    sn.countplot(x=df.Region, ax=axes[0, 1])\n",
    "    axes[0, 1].set_xticklabels(labels=axes[0, 1].get_xticklabels(), rotation=30)\n",
    "\n",
    "    # ages distrib\n",
    "    axes[0, 2].set_title(label='Ages distribution')\n",
    "    sn.distplot(a=df.Age, ax=axes[0, 2])\n",
    "\n",
    "    # Gender distrib\n",
    "    axes[1, 0].set_title(label='Gender distribution')\n",
    "    sn.countplot(x=df.MainApplicantGender, ax=axes[1, 0])\n",
    "\n",
    "    #  Town distrib\n",
    "    axes[1, 1].set_title(label='Town distribution')\n",
    "    sn.countplot(x=df.Town, ax=axes[1, 1])\n",
    "    axes[1, 1].set_xticklabels(labels=axes[1, 1].get_xticklabels(), rotation=90)\n",
    "\n",
    "    # Customer ocupation distrib\n",
    "    axes[1, 2].set_title(label='Occupation distribution')\n",
    "    sn.countplot(x=df.Occupation, ax=axes[1, 2])\n",
    "    axes[1, 2].set_xticklabels(labels=axes[1, 2].get_xticklabels(), rotation=90)\n",
    "\n",
    "    pyplot.tight_layout()\n",
    "    pyplot.show()\n",
    "    \n",
    "    return fig\n",
    "\n",
    "\n",
    "\n",
    "def preprocess_data(dff:pd.DataFrame, skip_cols:list=None)->pd.DataFrame:\n",
    "    \"\"\"\n",
    "        Preprocessing pipeline for AFC hackathon datasets\n",
    "        \n",
    "        Parameters\n",
    "        ----------\n",
    "            df : Pandas dataframe\n",
    "                Dataframe to be preprocessed.\n",
    "                \n",
    "            skip_cols : list\n",
    "                list of columns to skip during preprocessing\n",
    "                \n",
    "        Returns\n",
    "        -------\n",
    "            df : Pandas dataframe\n",
    "                Preprocessed dataframe.\n",
    "        \n",
    "        Examples\n",
    "        --------\n",
    "        >>> dataset = pd.read_csv(filepath_or_buffer='<path_to_data.csv>') \n",
    "        >>> new_df = preprocess_data(df=dataset) \n",
    "        \n",
    "    \"\"\"\n",
    "    \n",
    "    df = dff.copy(deep=True)\n",
    "    cols = [col for col in df.columns[1:] if col not in skip_cols]\n",
    "    cat_cols = [col for col in cols if df[col].dtype == 'O' and 'Date' not in col]\n",
    "    one_hotable =  [col for col in cat_cols if df[col].nunique() < 15]\n",
    "    date_cols = [col for col in cols if 'Date' in col]\n",
    "    \n",
    "    # convert cat col to category type\n",
    "    # print(\"Categorical cols\", cat_cols)\n",
    "    for col in tqdm(cat_cols, desc='Processing categorical columns \\t'):\n",
    "        if col not in one_hotable:\n",
    "            df[col] = df[col].astype('category')\n",
    "    \n",
    "    \n",
    "    # print(\"Date cols\", date_cols)\n",
    "    # convert date col to datetime type\n",
    "    for col in tqdm(date_cols, desc='Processing datetime columns \\t'):\n",
    "        df[col] = pd.to_datetime(df[col])\n",
    "    \n",
    "    #for col in tqdm(one_hotable, desc='Processing some categorical columns by One-Hot'):\n",
    "    \n",
    "     # fill missing values\n",
    "    dropable = []\n",
    "    for col in tqdm(cols, desc='Checking for no of missing and dropping empty-like columns'):\n",
    "        if (df[col].isna().sum()/ df.shape[0]) > 0.8:\n",
    "            df.drop(col, axis=1, inplace=True)\n",
    "            dropable.append(col)\n",
    "    print('The following columns have been dropped', dropable)\n",
    "    \n",
    "    try:\n",
    "        df.Region.fillna(value=df.Region.mode()[0], inplace=True)\n",
    "        df.Age.fillna(value=round(df.Age.mean()), inplace=True)\n",
    "\n",
    "    except AttributeError:\n",
    "        pass\n",
    "    # one-hot encoding one-hotable\n",
    "    df = pd.get_dummies(df, columns=one_hotable, drop_first=True)\n",
    "        \n",
    "   \n",
    "   \n",
    "   \n",
    "    \n",
    "    for col in cat_cols:\n",
    "        if col not in one_hotable:\n",
    "            try:\n",
    "                df[col] = df[col].cat.codes\n",
    "            except Exception as ex:\n",
    "                logging.error(msg=f\"Column issue ({col}) : {ex}\")\n",
    "\n",
    "        \n",
    "    return df\n",
    "\n",
    "\n",
    "def extract_features(df:pd.DataFrame)->pd.DataFrame:\n",
    "    df = df.copy()\n",
    "    df['RegisteredInLeapYear'] = df.RegistrationDate.dt.is_leap_year.astype('float')\n",
    "    df['RegisteredAtMonthStart'] = df.RegistrationDate.dt.is_month_start.astype('float')\n",
    "    df['RegisteredAtMonthEnd'] = df.RegistrationDate.dt.is_month_end.astype('float')\n",
    "    df['LastPaymentMonth'] = df.LastPaymentDate.dt.month\n",
    "    df['FirstPaymentMonth'] = df.FirstPaymentDate.dt.month\n",
    "    \n",
    "    return df.drop(columns=[\"TransactionDates\", \"PaymentsHistory\", \"m1\", \"m2\", \"m3\", \"m4\", \"m5\", \"m6\"], inplace=False)\n",
    "\n",
    "\n",
    "def pad_history(df:pd.DataFrame, max_len:int=46):\n",
    "    \n",
    "    df = df.copy()\n",
    "    \n",
    "    padded_payments = []\n",
    "    \n",
    "    for r in df.copy().iterrows():\n",
    "        r = r[1]\n",
    "       \n",
    "        if len(ast.literal_eval(r.PaymentsHistory)) > max_len:\n",
    "            padded_payments.append(ast.literal_eval(r.PaymentsHistory)[:max_len])\n",
    "            \n",
    "        else:\n",
    "            padding_len = abs(max_len - len(ast.literal_eval(r.PaymentsHistory)))\n",
    "            padded_payments.append(ast.literal_eval(r.PaymentsHistory) + padding_len*[0.])\n",
    "            \n",
    "    \n",
    "    df[\"PaymentsHistory\"] = padded_payments\n",
    "    \n",
    "    del padded_payments\n",
    "    \n",
    "    return df, max_len"
   ]
  },
  {
   "cell_type": "markdown",
   "id": "1c94e70d",
   "metadata": {},
   "source": [
    "# Dataset\n",
    "---\n",
    "1. Load files\n",
    "2. Exploratory Data Analysis (EDA)\n",
    "3. Preprocess data\n",
    "4. Extract features\n",
    "4. Train/Test split"
   ]
  },
  {
   "cell_type": "code",
   "execution_count": 5,
   "id": "726bdde8",
   "metadata": {
    "tags": []
   },
   "outputs": [],
   "source": [
    "train = pd.read_csv(\"Train.csv\")\n",
    "metadata = pd.read_csv(\"metadata.csv\")\n",
    "test = pd.read_csv(\"Test.csv\")\n",
    "ss = pd.read_csv(\"SampleSubmission.csv\")\n",
    "descr = pd.read_csv('VariableDefinitions.txt', delimiter=':')"
   ]
  },
  {
   "cell_type": "code",
   "execution_count": 6,
   "id": "ae741331-b4a3-4103-898d-0636b8d47dd8",
   "metadata": {},
   "outputs": [],
   "source": [
    "# drop leakage data \n",
    "metadata.drop('LastPaymentDate',axis=1, inplace = True)"
   ]
  },
  {
   "cell_type": "code",
   "execution_count": 7,
   "id": "d316b669",
   "metadata": {},
   "outputs": [
    {
     "data": {
      "text/html": [
       "<div>\n",
       "<style scoped>\n",
       "    .dataframe tbody tr th:only-of-type {\n",
       "        vertical-align: middle;\n",
       "    }\n",
       "\n",
       "    .dataframe tbody tr th {\n",
       "        vertical-align: top;\n",
       "    }\n",
       "\n",
       "    .dataframe thead th {\n",
       "        text-align: right;\n",
       "    }\n",
       "</style>\n",
       "<table border=\"1\" class=\"dataframe\">\n",
       "  <thead>\n",
       "    <tr style=\"text-align: right;\">\n",
       "      <th></th>\n",
       "      <th>Contract file</th>\n",
       "      <th>Unnamed: 1</th>\n",
       "    </tr>\n",
       "  </thead>\n",
       "  <tbody>\n",
       "    <tr>\n",
       "      <th>0</th>\n",
       "      <td>ID</td>\n",
       "      <td>Unique contract id</td>\n",
       "    </tr>\n",
       "    <tr>\n",
       "      <th>1</th>\n",
       "      <td>RegistrationDate</td>\n",
       "      <td>Registration Date</td>\n",
       "    </tr>\n",
       "    <tr>\n",
       "      <th>2</th>\n",
       "      <td>Deposit</td>\n",
       "      <td>amount paid upfront by customer</td>\n",
       "    </tr>\n",
       "    <tr>\n",
       "      <th>3</th>\n",
       "      <td>Upsell Date</td>\n",
       "      <td>if upsell date of the upsell</td>\n",
       "    </tr>\n",
       "    <tr>\n",
       "      <th>4</th>\n",
       "      <td>Accessory rate</td>\n",
       "      <td>Rate per Unit for an Upsell</td>\n",
       "    </tr>\n",
       "    <tr>\n",
       "      <th>5</th>\n",
       "      <td>Payment Method</td>\n",
       "      <td>indicates if the contract is financed or a ca...</td>\n",
       "    </tr>\n",
       "    <tr>\n",
       "      <th>6</th>\n",
       "      <td>rateTypeEntity</td>\n",
       "      <td>payment frequency (daily or monthly)</td>\n",
       "    </tr>\n",
       "    <tr>\n",
       "      <th>7</th>\n",
       "      <td>RatePerUnit</td>\n",
       "      <td>Amount needed to generate a token for a minim...</td>\n",
       "    </tr>\n",
       "    <tr>\n",
       "      <th>8</th>\n",
       "      <td>DaysOnDeposit</td>\n",
       "      <td>Number of days credited with the deposit payment</td>\n",
       "    </tr>\n",
       "    <tr>\n",
       "      <th>9</th>\n",
       "      <td>MainApplicantGender</td>\n",
       "      <td>Gender of the applicant</td>\n",
       "    </tr>\n",
       "    <tr>\n",
       "      <th>10</th>\n",
       "      <td>Age</td>\n",
       "      <td>Region of the applicant</td>\n",
       "    </tr>\n",
       "    <tr>\n",
       "      <th>11</th>\n",
       "      <td>Region</td>\n",
       "      <td>Region of the applicant</td>\n",
       "    </tr>\n",
       "    <tr>\n",
       "      <th>12</th>\n",
       "      <td>Town</td>\n",
       "      <td>Town of the applicant</td>\n",
       "    </tr>\n",
       "    <tr>\n",
       "      <th>13</th>\n",
       "      <td>Occupation</td>\n",
       "      <td>occupation of the applicant</td>\n",
       "    </tr>\n",
       "    <tr>\n",
       "      <th>14</th>\n",
       "      <td>Term</td>\n",
       "      <td>Expected contract duration (in days)</td>\n",
       "    </tr>\n",
       "    <tr>\n",
       "      <th>15</th>\n",
       "      <td>TotalContractValue</td>\n",
       "      <td>Contract value</td>\n",
       "    </tr>\n",
       "    <tr>\n",
       "      <th>16</th>\n",
       "      <td>ExpectedTermDate</td>\n",
       "      <td>Expected contract term date</td>\n",
       "    </tr>\n",
       "    <tr>\n",
       "      <th>17</th>\n",
       "      <td>FirstPaymentDate</td>\n",
       "      <td>date of the first registered payment</td>\n",
       "    </tr>\n",
       "    <tr>\n",
       "      <th>18</th>\n",
       "      <td>LastPaymentDate</td>\n",
       "      <td>date of the last registered payment</td>\n",
       "    </tr>\n",
       "    <tr>\n",
       "      <th>19</th>\n",
       "      <td>SupplierName</td>\n",
       "      <td>Name of the supplier</td>\n",
       "    </tr>\n",
       "    <tr>\n",
       "      <th>20</th>\n",
       "      <td>TransactionDates</td>\n",
       "      <td>Transaction date (following the format 'month...</td>\n",
       "    </tr>\n",
       "    <tr>\n",
       "      <th>21</th>\n",
       "      <td>PaymentsHistory</td>\n",
       "      <td>history of payments for that contract</td>\n",
       "    </tr>\n",
       "    <tr>\n",
       "      <th>22</th>\n",
       "      <td>m1-m6</td>\n",
       "      <td>targets (next six payments to predict</td>\n",
       "    </tr>\n",
       "  </tbody>\n",
       "</table>\n",
       "</div>"
      ],
      "text/plain": [
       "           Contract file                                         Unnamed: 1\n",
       "0                     ID                                Unique contract id \n",
       "1       RegistrationDate                                  Registration Date\n",
       "2                Deposit                    amount paid upfront by customer\n",
       "3            Upsell Date                       if upsell date of the upsell\n",
       "4         Accessory rate                        Rate per Unit for an Upsell\n",
       "5         Payment Method   indicates if the contract is financed or a ca...\n",
       "6         rateTypeEntity               payment frequency (daily or monthly)\n",
       "7            RatePerUnit   Amount needed to generate a token for a minim...\n",
       "8          DaysOnDeposit   Number of days credited with the deposit payment\n",
       "9   MainApplicantGender                             Gender of the applicant\n",
       "10                  Age                             Region of the applicant\n",
       "11               Region                             Region of the applicant\n",
       "12                 Town                               Town of the applicant\n",
       "13           Occupation                         occupation of the applicant\n",
       "14                 Term                Expected contract duration (in days)\n",
       "15   TotalContractValue                                     Contract value \n",
       "16     ExpectedTermDate                         Expected contract term date\n",
       "17     FirstPaymentDate                date of the first registered payment\n",
       "18      LastPaymentDate                date of the last registered payment \n",
       "19         SupplierName                                Name of the supplier\n",
       "20      TransactionDates   Transaction date (following the format 'month...\n",
       "21       PaymentsHistory              history of payments for that contract\n",
       "22                m1-m6               targets (next six payments to predict"
      ]
     },
     "execution_count": 7,
     "metadata": {},
     "output_type": "execute_result"
    }
   ],
   "source": [
    "descr"
   ]
  },
  {
   "cell_type": "markdown",
   "id": "195a8c4e",
   "metadata": {
    "execution": {
     "iopub.execute_input": "2021-06-04T06:44:23.685607Z",
     "iopub.status.busy": "2021-06-04T06:44:23.685352Z",
     "iopub.status.idle": "2021-06-04T06:44:23.688805Z",
     "shell.execute_reply": "2021-06-04T06:44:23.688241Z",
     "shell.execute_reply.started": "2021-06-04T06:44:23.685554Z"
    }
   },
   "source": [
    "### EDA"
   ]
  },
  {
   "cell_type": "code",
   "execution_count": 8,
   "id": "598fec52",
   "metadata": {},
   "outputs": [
    {
     "data": {
      "text/html": [
       "<div>\n",
       "<style scoped>\n",
       "    .dataframe tbody tr th:only-of-type {\n",
       "        vertical-align: middle;\n",
       "    }\n",
       "\n",
       "    .dataframe tbody tr th {\n",
       "        vertical-align: top;\n",
       "    }\n",
       "\n",
       "    .dataframe thead th {\n",
       "        text-align: right;\n",
       "    }\n",
       "</style>\n",
       "<table border=\"1\" class=\"dataframe\">\n",
       "  <thead>\n",
       "    <tr style=\"text-align: right;\">\n",
       "      <th></th>\n",
       "      <th>ExpectedTermDate</th>\n",
       "      <th>FirstPaymentDate</th>\n",
       "      <th>Term</th>\n",
       "      <th>UpsellDate</th>\n",
       "    </tr>\n",
       "  </thead>\n",
       "  <tbody>\n",
       "    <tr>\n",
       "      <th>0</th>\n",
       "      <td>2016-12-08 00:00:00</td>\n",
       "      <td>2015-12-10 09:52:35</td>\n",
       "      <td>364</td>\n",
       "      <td>NaN</td>\n",
       "    </tr>\n",
       "    <tr>\n",
       "      <th>1</th>\n",
       "      <td>2016-12-07 00:00:00</td>\n",
       "      <td>2015-12-09 13:14:03</td>\n",
       "      <td>364</td>\n",
       "      <td>NaN</td>\n",
       "    </tr>\n",
       "    <tr>\n",
       "      <th>2</th>\n",
       "      <td>2017-01-13 00:00:00</td>\n",
       "      <td>2015-12-18 06:22:34</td>\n",
       "      <td>392</td>\n",
       "      <td>2018-03-29 10:14:58</td>\n",
       "    </tr>\n",
       "    <tr>\n",
       "      <th>3</th>\n",
       "      <td>2016-11-23 00:00:00</td>\n",
       "      <td>2015-11-25 13:25:57</td>\n",
       "      <td>364</td>\n",
       "      <td>NaN</td>\n",
       "    </tr>\n",
       "    <tr>\n",
       "      <th>4</th>\n",
       "      <td>2016-11-30 00:00:00</td>\n",
       "      <td>2015-12-05 10:34:32</td>\n",
       "      <td>364</td>\n",
       "      <td>NaN</td>\n",
       "    </tr>\n",
       "  </tbody>\n",
       "</table>\n",
       "</div>"
      ],
      "text/plain": [
       "      ExpectedTermDate     FirstPaymentDate  Term           UpsellDate\n",
       "0  2016-12-08 00:00:00  2015-12-10 09:52:35   364                  NaN\n",
       "1  2016-12-07 00:00:00  2015-12-09 13:14:03   364                  NaN\n",
       "2  2017-01-13 00:00:00  2015-12-18 06:22:34   392  2018-03-29 10:14:58\n",
       "3  2016-11-23 00:00:00  2015-11-25 13:25:57   364                  NaN\n",
       "4  2016-11-30 00:00:00  2015-12-05 10:34:32   364                  NaN"
      ]
     },
     "execution_count": 8,
     "metadata": {},
     "output_type": "execute_result"
    }
   ],
   "source": [
    "metadata[['ExpectedTermDate', 'FirstPaymentDate','Term','UpsellDate']].head()"
   ]
  },
  {
   "cell_type": "code",
   "execution_count": 9,
   "id": "ff43d08d",
   "metadata": {},
   "outputs": [
    {
     "data": {
      "text/html": [
       "<div>\n",
       "<style scoped>\n",
       "    .dataframe tbody tr th:only-of-type {\n",
       "        vertical-align: middle;\n",
       "    }\n",
       "\n",
       "    .dataframe tbody tr th {\n",
       "        vertical-align: top;\n",
       "    }\n",
       "\n",
       "    .dataframe thead th {\n",
       "        text-align: right;\n",
       "    }\n",
       "</style>\n",
       "<table border=\"1\" class=\"dataframe\">\n",
       "  <thead>\n",
       "    <tr style=\"text-align: right;\">\n",
       "      <th></th>\n",
       "      <th>ID</th>\n",
       "      <th>RegistrationDate</th>\n",
       "      <th>Deposit</th>\n",
       "      <th>UpsellDate</th>\n",
       "      <th>AccessoryRate</th>\n",
       "      <th>PaymentMethod</th>\n",
       "      <th>rateTypeEntity</th>\n",
       "      <th>RatePerUnit</th>\n",
       "      <th>DaysOnDeposit</th>\n",
       "      <th>MainApplicantGender</th>\n",
       "      <th>Age</th>\n",
       "      <th>Region</th>\n",
       "      <th>Town</th>\n",
       "      <th>Occupation</th>\n",
       "      <th>SupplierName</th>\n",
       "      <th>Term</th>\n",
       "      <th>TotalContractValue</th>\n",
       "      <th>ExpectedTermDate</th>\n",
       "      <th>FirstPaymentDate</th>\n",
       "    </tr>\n",
       "  </thead>\n",
       "  <tbody>\n",
       "    <tr>\n",
       "      <th>0</th>\n",
       "      <td>ID_K00S4N4</td>\n",
       "      <td>2015-12-10 00:00:00</td>\n",
       "      <td>2000</td>\n",
       "      <td>NaN</td>\n",
       "      <td>0.0</td>\n",
       "      <td>FINANCED</td>\n",
       "      <td>DAILY</td>\n",
       "      <td>35</td>\n",
       "      <td>7</td>\n",
       "      <td>Male</td>\n",
       "      <td>41.0</td>\n",
       "      <td>Mount Kenya Region</td>\n",
       "      <td>Embu</td>\n",
       "      <td>Other</td>\n",
       "      <td>d_light</td>\n",
       "      <td>364</td>\n",
       "      <td>14740.0</td>\n",
       "      <td>2016-12-08 00:00:00</td>\n",
       "      <td>2015-12-10 09:52:35</td>\n",
       "    </tr>\n",
       "    <tr>\n",
       "      <th>1</th>\n",
       "      <td>ID_6L67PAA</td>\n",
       "      <td>2015-12-09 00:00:00</td>\n",
       "      <td>2000</td>\n",
       "      <td>NaN</td>\n",
       "      <td>0.0</td>\n",
       "      <td>FINANCED</td>\n",
       "      <td>DAILY</td>\n",
       "      <td>35</td>\n",
       "      <td>7</td>\n",
       "      <td>Male</td>\n",
       "      <td>33.0</td>\n",
       "      <td>Coast Region</td>\n",
       "      <td>Kilifi</td>\n",
       "      <td>Other</td>\n",
       "      <td>d_light</td>\n",
       "      <td>364</td>\n",
       "      <td>14740.0</td>\n",
       "      <td>2016-12-07 00:00:00</td>\n",
       "      <td>2015-12-09 13:14:03</td>\n",
       "    </tr>\n",
       "    <tr>\n",
       "      <th>2</th>\n",
       "      <td>ID_102CV85</td>\n",
       "      <td>2015-12-18 00:00:00</td>\n",
       "      <td>2000</td>\n",
       "      <td>2018-03-29 10:14:58</td>\n",
       "      <td>35.0</td>\n",
       "      <td>FINANCED</td>\n",
       "      <td>DAILY</td>\n",
       "      <td>35</td>\n",
       "      <td>7</td>\n",
       "      <td>Female</td>\n",
       "      <td>48.0</td>\n",
       "      <td>Nairobi Region</td>\n",
       "      <td>Makueni</td>\n",
       "      <td>Business</td>\n",
       "      <td>d_light</td>\n",
       "      <td>392</td>\n",
       "      <td>29480.0</td>\n",
       "      <td>2017-01-13 00:00:00</td>\n",
       "      <td>2015-12-18 06:22:34</td>\n",
       "    </tr>\n",
       "    <tr>\n",
       "      <th>3</th>\n",
       "      <td>ID_HXBJFHB</td>\n",
       "      <td>2015-11-25 00:00:00</td>\n",
       "      <td>2000</td>\n",
       "      <td>NaN</td>\n",
       "      <td>0.0</td>\n",
       "      <td>FINANCED</td>\n",
       "      <td>DAILY</td>\n",
       "      <td>35</td>\n",
       "      <td>7</td>\n",
       "      <td>Female</td>\n",
       "      <td>43.0</td>\n",
       "      <td>NaN</td>\n",
       "      <td>UNKNOWN</td>\n",
       "      <td>Teacher</td>\n",
       "      <td>d_light</td>\n",
       "      <td>364</td>\n",
       "      <td>14740.0</td>\n",
       "      <td>2016-11-23 00:00:00</td>\n",
       "      <td>2015-11-25 13:25:57</td>\n",
       "    </tr>\n",
       "    <tr>\n",
       "      <th>4</th>\n",
       "      <td>ID_3K9VZ5J</td>\n",
       "      <td>2015-12-02 00:00:00</td>\n",
       "      <td>2000</td>\n",
       "      <td>NaN</td>\n",
       "      <td>0.0</td>\n",
       "      <td>FINANCED</td>\n",
       "      <td>DAILY</td>\n",
       "      <td>35</td>\n",
       "      <td>7</td>\n",
       "      <td>Female</td>\n",
       "      <td>56.0</td>\n",
       "      <td>Mount Kenya Region</td>\n",
       "      <td>Kirinyaga</td>\n",
       "      <td>Other</td>\n",
       "      <td>d_light</td>\n",
       "      <td>364</td>\n",
       "      <td>14740.0</td>\n",
       "      <td>2016-11-30 00:00:00</td>\n",
       "      <td>2015-12-05 10:34:32</td>\n",
       "    </tr>\n",
       "  </tbody>\n",
       "</table>\n",
       "</div>"
      ],
      "text/plain": [
       "           ID     RegistrationDate  Deposit           UpsellDate  \\\n",
       "0  ID_K00S4N4  2015-12-10 00:00:00     2000                  NaN   \n",
       "1  ID_6L67PAA  2015-12-09 00:00:00     2000                  NaN   \n",
       "2  ID_102CV85  2015-12-18 00:00:00     2000  2018-03-29 10:14:58   \n",
       "3  ID_HXBJFHB  2015-11-25 00:00:00     2000                  NaN   \n",
       "4  ID_3K9VZ5J  2015-12-02 00:00:00     2000                  NaN   \n",
       "\n",
       "   AccessoryRate PaymentMethod rateTypeEntity  RatePerUnit  DaysOnDeposit  \\\n",
       "0            0.0      FINANCED          DAILY           35              7   \n",
       "1            0.0      FINANCED          DAILY           35              7   \n",
       "2           35.0      FINANCED          DAILY           35              7   \n",
       "3            0.0      FINANCED          DAILY           35              7   \n",
       "4            0.0      FINANCED          DAILY           35              7   \n",
       "\n",
       "  MainApplicantGender   Age              Region       Town Occupation  \\\n",
       "0                Male  41.0  Mount Kenya Region       Embu      Other   \n",
       "1                Male  33.0        Coast Region     Kilifi      Other   \n",
       "2              Female  48.0      Nairobi Region    Makueni   Business   \n",
       "3              Female  43.0                 NaN    UNKNOWN    Teacher   \n",
       "4              Female  56.0  Mount Kenya Region  Kirinyaga      Other   \n",
       "\n",
       "  SupplierName  Term  TotalContractValue     ExpectedTermDate  \\\n",
       "0      d_light   364             14740.0  2016-12-08 00:00:00   \n",
       "1      d_light   364             14740.0  2016-12-07 00:00:00   \n",
       "2      d_light   392             29480.0  2017-01-13 00:00:00   \n",
       "3      d_light   364             14740.0  2016-11-23 00:00:00   \n",
       "4      d_light   364             14740.0  2016-11-30 00:00:00   \n",
       "\n",
       "      FirstPaymentDate  \n",
       "0  2015-12-10 09:52:35  \n",
       "1  2015-12-09 13:14:03  \n",
       "2  2015-12-18 06:22:34  \n",
       "3  2015-11-25 13:25:57  \n",
       "4  2015-12-05 10:34:32  "
      ]
     },
     "execution_count": 9,
     "metadata": {},
     "output_type": "execute_result"
    }
   ],
   "source": [
    "metadata.head()"
   ]
  },
  {
   "cell_type": "code",
   "execution_count": 10,
   "id": "d50d3ea1",
   "metadata": {
    "tags": []
   },
   "outputs": [
    {
     "name": "stdout",
     "output_type": "stream",
     "text": [
      "<class 'pandas.core.frame.DataFrame'>\n",
      "RangeIndex: 28007 entries, 0 to 28006\n",
      "Data columns (total 9 columns):\n",
      " #   Column            Non-Null Count  Dtype  \n",
      "---  ------            --------------  -----  \n",
      " 0   ID                28007 non-null  object \n",
      " 1   TransactionDates  28007 non-null  object \n",
      " 2   PaymentsHistory   28007 non-null  object \n",
      " 3   m1                28007 non-null  float64\n",
      " 4   m2                28007 non-null  float64\n",
      " 5   m3                28007 non-null  float64\n",
      " 6   m4                28007 non-null  float64\n",
      " 7   m5                28007 non-null  float64\n",
      " 8   m6                28007 non-null  float64\n",
      "dtypes: float64(6), object(3)\n",
      "memory usage: 1.9+ MB\n"
     ]
    }
   ],
   "source": [
    "train.info()"
   ]
  },
  {
   "cell_type": "code",
   "execution_count": 11,
   "id": "9655c5fc",
   "metadata": {
    "tags": []
   },
   "outputs": [
    {
     "data": {
      "text/html": [
       "<div>\n",
       "<style scoped>\n",
       "    .dataframe tbody tr th:only-of-type {\n",
       "        vertical-align: middle;\n",
       "    }\n",
       "\n",
       "    .dataframe tbody tr th {\n",
       "        vertical-align: top;\n",
       "    }\n",
       "\n",
       "    .dataframe thead th {\n",
       "        text-align: right;\n",
       "    }\n",
       "</style>\n",
       "<table border=\"1\" class=\"dataframe\">\n",
       "  <thead>\n",
       "    <tr style=\"text-align: right;\">\n",
       "      <th></th>\n",
       "      <th>count</th>\n",
       "      <th>mean</th>\n",
       "      <th>std</th>\n",
       "      <th>min</th>\n",
       "      <th>25%</th>\n",
       "      <th>50%</th>\n",
       "      <th>75%</th>\n",
       "      <th>max</th>\n",
       "    </tr>\n",
       "  </thead>\n",
       "  <tbody>\n",
       "    <tr>\n",
       "      <th>m1</th>\n",
       "      <td>28007.0</td>\n",
       "      <td>815.411683</td>\n",
       "      <td>686.130805</td>\n",
       "      <td>1.0</td>\n",
       "      <td>275.0</td>\n",
       "      <td>820.0</td>\n",
       "      <td>1200.0</td>\n",
       "      <td>33890.0</td>\n",
       "    </tr>\n",
       "    <tr>\n",
       "      <th>m2</th>\n",
       "      <td>28007.0</td>\n",
       "      <td>807.101617</td>\n",
       "      <td>839.772177</td>\n",
       "      <td>1.0</td>\n",
       "      <td>250.0</td>\n",
       "      <td>800.0</td>\n",
       "      <td>1200.0</td>\n",
       "      <td>94044.0</td>\n",
       "    </tr>\n",
       "    <tr>\n",
       "      <th>m3</th>\n",
       "      <td>28007.0</td>\n",
       "      <td>797.641161</td>\n",
       "      <td>696.809281</td>\n",
       "      <td>1.0</td>\n",
       "      <td>220.0</td>\n",
       "      <td>790.0</td>\n",
       "      <td>1200.0</td>\n",
       "      <td>32005.0</td>\n",
       "    </tr>\n",
       "    <tr>\n",
       "      <th>m4</th>\n",
       "      <td>28007.0</td>\n",
       "      <td>815.011033</td>\n",
       "      <td>715.582046</td>\n",
       "      <td>1.0</td>\n",
       "      <td>230.0</td>\n",
       "      <td>815.0</td>\n",
       "      <td>1200.0</td>\n",
       "      <td>33403.0</td>\n",
       "    </tr>\n",
       "    <tr>\n",
       "      <th>m5</th>\n",
       "      <td>28007.0</td>\n",
       "      <td>827.719463</td>\n",
       "      <td>796.379837</td>\n",
       "      <td>1.0</td>\n",
       "      <td>220.0</td>\n",
       "      <td>840.0</td>\n",
       "      <td>1205.0</td>\n",
       "      <td>64106.0</td>\n",
       "    </tr>\n",
       "    <tr>\n",
       "      <th>m6</th>\n",
       "      <td>28007.0</td>\n",
       "      <td>692.115150</td>\n",
       "      <td>1416.301221</td>\n",
       "      <td>1.0</td>\n",
       "      <td>130.0</td>\n",
       "      <td>480.0</td>\n",
       "      <td>915.0</td>\n",
       "      <td>96814.0</td>\n",
       "    </tr>\n",
       "  </tbody>\n",
       "</table>\n",
       "</div>"
      ],
      "text/plain": [
       "      count        mean          std  min    25%    50%     75%      max\n",
       "m1  28007.0  815.411683   686.130805  1.0  275.0  820.0  1200.0  33890.0\n",
       "m2  28007.0  807.101617   839.772177  1.0  250.0  800.0  1200.0  94044.0\n",
       "m3  28007.0  797.641161   696.809281  1.0  220.0  790.0  1200.0  32005.0\n",
       "m4  28007.0  815.011033   715.582046  1.0  230.0  815.0  1200.0  33403.0\n",
       "m5  28007.0  827.719463   796.379837  1.0  220.0  840.0  1205.0  64106.0\n",
       "m6  28007.0  692.115150  1416.301221  1.0  130.0  480.0   915.0  96814.0"
      ]
     },
     "execution_count": 11,
     "metadata": {},
     "output_type": "execute_result"
    }
   ],
   "source": [
    "train.describe().transpose()"
   ]
  },
  {
   "cell_type": "code",
   "execution_count": 12,
   "id": "3f295f3b",
   "metadata": {
    "tags": []
   },
   "outputs": [
    {
     "data": {
      "text/html": [
       "<div>\n",
       "<style scoped>\n",
       "    .dataframe tbody tr th:only-of-type {\n",
       "        vertical-align: middle;\n",
       "    }\n",
       "\n",
       "    .dataframe tbody tr th {\n",
       "        vertical-align: top;\n",
       "    }\n",
       "\n",
       "    .dataframe thead th {\n",
       "        text-align: right;\n",
       "    }\n",
       "</style>\n",
       "<table border=\"1\" class=\"dataframe\">\n",
       "  <thead>\n",
       "    <tr style=\"text-align: right;\">\n",
       "      <th></th>\n",
       "      <th>ID</th>\n",
       "      <th>TransactionDates</th>\n",
       "      <th>PaymentsHistory</th>\n",
       "      <th>m1</th>\n",
       "      <th>m2</th>\n",
       "      <th>m3</th>\n",
       "      <th>m4</th>\n",
       "      <th>m5</th>\n",
       "      <th>m6</th>\n",
       "    </tr>\n",
       "  </thead>\n",
       "  <tbody>\n",
       "    <tr>\n",
       "      <th>0</th>\n",
       "      <td>ID_MR53LEX</td>\n",
       "      <td>['04-2018', '05-2018', '06-2018', '07-2018', '...</td>\n",
       "      <td>[3600.0, 750.0, 350.0, 65.0, 95.0, 135.0, 85.0...</td>\n",
       "      <td>880.0</td>\n",
       "      <td>930.0</td>\n",
       "      <td>495.0</td>\n",
       "      <td>715.0</td>\n",
       "      <td>220.0</td>\n",
       "      <td>385.0</td>\n",
       "    </tr>\n",
       "    <tr>\n",
       "      <th>1</th>\n",
       "      <td>ID_3D7NQUH</td>\n",
       "      <td>['04-2018', '05-2018', '06-2018', '07-2018', '...</td>\n",
       "      <td>[2940.0, 970.0, 380.0, 880.0, 385.0, 440.0, 11...</td>\n",
       "      <td>660.0</td>\n",
       "      <td>935.0</td>\n",
       "      <td>935.0</td>\n",
       "      <td>825.0</td>\n",
       "      <td>770.0</td>\n",
       "      <td>935.0</td>\n",
       "    </tr>\n",
       "    <tr>\n",
       "      <th>2</th>\n",
       "      <td>ID_0IWQNPI</td>\n",
       "      <td>['02-2020', '03-2020', '04-2020', '05-2020', '...</td>\n",
       "      <td>[2850.0, 1500.0, 1350.0, 610.0, 200.0, 250.0]</td>\n",
       "      <td>700.0</td>\n",
       "      <td>1350.0</td>\n",
       "      <td>1550.0</td>\n",
       "      <td>1400.0</td>\n",
       "      <td>1450.0</td>\n",
       "      <td>1200.0</td>\n",
       "    </tr>\n",
       "    <tr>\n",
       "      <th>3</th>\n",
       "      <td>ID_IY8SYB9</td>\n",
       "      <td>['09-2017', '10-2017', '11-2017', '12-2017', '...</td>\n",
       "      <td>[2200.0, 1420.0, 1180.0, 900.0, 1400.0, 780.0,...</td>\n",
       "      <td>580.0</td>\n",
       "      <td>480.0</td>\n",
       "      <td>800.0</td>\n",
       "      <td>1260.0</td>\n",
       "      <td>1650.0</td>\n",
       "      <td>530.0</td>\n",
       "    </tr>\n",
       "    <tr>\n",
       "      <th>4</th>\n",
       "      <td>ID_9XHL7VZ</td>\n",
       "      <td>['09-2017', '10-2017', '11-2017', '12-2017', '...</td>\n",
       "      <td>[2640.0, 910.0, 480.0, 280.0, 200.0, 180.0, 33...</td>\n",
       "      <td>40.0</td>\n",
       "      <td>440.0</td>\n",
       "      <td>460.0</td>\n",
       "      <td>360.0</td>\n",
       "      <td>80.0</td>\n",
       "      <td>330.0</td>\n",
       "    </tr>\n",
       "  </tbody>\n",
       "</table>\n",
       "</div>"
      ],
      "text/plain": [
       "           ID                                   TransactionDates  \\\n",
       "0  ID_MR53LEX  ['04-2018', '05-2018', '06-2018', '07-2018', '...   \n",
       "1  ID_3D7NQUH  ['04-2018', '05-2018', '06-2018', '07-2018', '...   \n",
       "2  ID_0IWQNPI  ['02-2020', '03-2020', '04-2020', '05-2020', '...   \n",
       "3  ID_IY8SYB9  ['09-2017', '10-2017', '11-2017', '12-2017', '...   \n",
       "4  ID_9XHL7VZ  ['09-2017', '10-2017', '11-2017', '12-2017', '...   \n",
       "\n",
       "                                     PaymentsHistory     m1      m2      m3  \\\n",
       "0  [3600.0, 750.0, 350.0, 65.0, 95.0, 135.0, 85.0...  880.0   930.0   495.0   \n",
       "1  [2940.0, 970.0, 380.0, 880.0, 385.0, 440.0, 11...  660.0   935.0   935.0   \n",
       "2      [2850.0, 1500.0, 1350.0, 610.0, 200.0, 250.0]  700.0  1350.0  1550.0   \n",
       "3  [2200.0, 1420.0, 1180.0, 900.0, 1400.0, 780.0,...  580.0   480.0   800.0   \n",
       "4  [2640.0, 910.0, 480.0, 280.0, 200.0, 180.0, 33...   40.0   440.0   460.0   \n",
       "\n",
       "       m4      m5      m6  \n",
       "0   715.0   220.0   385.0  \n",
       "1   825.0   770.0   935.0  \n",
       "2  1400.0  1450.0  1200.0  \n",
       "3  1260.0  1650.0   530.0  \n",
       "4   360.0    80.0   330.0  "
      ]
     },
     "execution_count": 12,
     "metadata": {},
     "output_type": "execute_result"
    }
   ],
   "source": [
    "train.head(n=5)"
   ]
  },
  {
   "cell_type": "code",
   "execution_count": 13,
   "id": "64e6c969",
   "metadata": {
    "tags": []
   },
   "outputs": [
    {
     "name": "stdout",
     "output_type": "stream",
     "text": [
      "<class 'pandas.core.frame.DataFrame'>\n",
      "RangeIndex: 37343 entries, 0 to 37342\n",
      "Data columns (total 19 columns):\n",
      " #   Column               Non-Null Count  Dtype  \n",
      "---  ------               --------------  -----  \n",
      " 0   ID                   37343 non-null  object \n",
      " 1   RegistrationDate     37343 non-null  object \n",
      " 2   Deposit              37343 non-null  int64  \n",
      " 3   UpsellDate           973 non-null    object \n",
      " 4   AccessoryRate        37343 non-null  float64\n",
      " 5   PaymentMethod        37343 non-null  object \n",
      " 6   rateTypeEntity       37343 non-null  object \n",
      " 7   RatePerUnit          37343 non-null  int64  \n",
      " 8   DaysOnDeposit        37343 non-null  int64  \n",
      " 9   MainApplicantGender  37343 non-null  object \n",
      " 10  Age                  30404 non-null  float64\n",
      " 11  Region               35409 non-null  object \n",
      " 12  Town                 37343 non-null  object \n",
      " 13  Occupation           37343 non-null  object \n",
      " 14  SupplierName         37343 non-null  object \n",
      " 15  Term                 37343 non-null  int64  \n",
      " 16  TotalContractValue   37343 non-null  float64\n",
      " 17  ExpectedTermDate     37343 non-null  object \n",
      " 18  FirstPaymentDate     37343 non-null  object \n",
      "dtypes: float64(3), int64(4), object(12)\n",
      "memory usage: 5.4+ MB\n"
     ]
    }
   ],
   "source": [
    "metadata.info()"
   ]
  },
  {
   "cell_type": "code",
   "execution_count": 14,
   "id": "edc67137",
   "metadata": {
    "tags": []
   },
   "outputs": [
    {
     "data": {
      "text/html": [
       "<div>\n",
       "<style scoped>\n",
       "    .dataframe tbody tr th:only-of-type {\n",
       "        vertical-align: middle;\n",
       "    }\n",
       "\n",
       "    .dataframe tbody tr th {\n",
       "        vertical-align: top;\n",
       "    }\n",
       "\n",
       "    .dataframe thead th {\n",
       "        text-align: right;\n",
       "    }\n",
       "</style>\n",
       "<table border=\"1\" class=\"dataframe\">\n",
       "  <thead>\n",
       "    <tr style=\"text-align: right;\">\n",
       "      <th></th>\n",
       "      <th>count</th>\n",
       "      <th>mean</th>\n",
       "      <th>std</th>\n",
       "      <th>min</th>\n",
       "      <th>25%</th>\n",
       "      <th>50%</th>\n",
       "      <th>75%</th>\n",
       "      <th>max</th>\n",
       "    </tr>\n",
       "  </thead>\n",
       "  <tbody>\n",
       "    <tr>\n",
       "      <th>Deposit</th>\n",
       "      <td>37343.0</td>\n",
       "      <td>2348.631685</td>\n",
       "      <td>417.814614</td>\n",
       "      <td>0.0</td>\n",
       "      <td>2000.0</td>\n",
       "      <td>2000.0</td>\n",
       "      <td>2500.0</td>\n",
       "      <td>8000.0</td>\n",
       "    </tr>\n",
       "    <tr>\n",
       "      <th>AccessoryRate</th>\n",
       "      <td>37343.0</td>\n",
       "      <td>1.136090</td>\n",
       "      <td>7.791789</td>\n",
       "      <td>0.0</td>\n",
       "      <td>0.0</td>\n",
       "      <td>0.0</td>\n",
       "      <td>0.0</td>\n",
       "      <td>240.0</td>\n",
       "    </tr>\n",
       "    <tr>\n",
       "      <th>RatePerUnit</th>\n",
       "      <td>37343.0</td>\n",
       "      <td>49.923868</td>\n",
       "      <td>57.500215</td>\n",
       "      <td>35.0</td>\n",
       "      <td>40.0</td>\n",
       "      <td>40.0</td>\n",
       "      <td>55.0</td>\n",
       "      <td>4000.0</td>\n",
       "    </tr>\n",
       "    <tr>\n",
       "      <th>DaysOnDeposit</th>\n",
       "      <td>37343.0</td>\n",
       "      <td>4.600835</td>\n",
       "      <td>3.429060</td>\n",
       "      <td>0.0</td>\n",
       "      <td>3.0</td>\n",
       "      <td>3.0</td>\n",
       "      <td>7.0</td>\n",
       "      <td>60.0</td>\n",
       "    </tr>\n",
       "    <tr>\n",
       "      <th>Age</th>\n",
       "      <td>30404.0</td>\n",
       "      <td>38.855677</td>\n",
       "      <td>12.300827</td>\n",
       "      <td>19.0</td>\n",
       "      <td>29.0</td>\n",
       "      <td>36.0</td>\n",
       "      <td>46.0</td>\n",
       "      <td>120.0</td>\n",
       "    </tr>\n",
       "    <tr>\n",
       "      <th>Term</th>\n",
       "      <td>37343.0</td>\n",
       "      <td>412.427657</td>\n",
       "      <td>121.602544</td>\n",
       "      <td>10.0</td>\n",
       "      <td>364.0</td>\n",
       "      <td>364.0</td>\n",
       "      <td>547.0</td>\n",
       "      <td>626.0</td>\n",
       "    </tr>\n",
       "    <tr>\n",
       "      <th>TotalContractValue</th>\n",
       "      <td>37343.0</td>\n",
       "      <td>22953.005142</td>\n",
       "      <td>10149.863172</td>\n",
       "      <td>10800.0</td>\n",
       "      <td>16560.0</td>\n",
       "      <td>16560.0</td>\n",
       "      <td>33080.0</td>\n",
       "      <td>64484.0</td>\n",
       "    </tr>\n",
       "  </tbody>\n",
       "</table>\n",
       "</div>"
      ],
      "text/plain": [
       "                      count          mean           std      min      25%  \\\n",
       "Deposit             37343.0   2348.631685    417.814614      0.0   2000.0   \n",
       "AccessoryRate       37343.0      1.136090      7.791789      0.0      0.0   \n",
       "RatePerUnit         37343.0     49.923868     57.500215     35.0     40.0   \n",
       "DaysOnDeposit       37343.0      4.600835      3.429060      0.0      3.0   \n",
       "Age                 30404.0     38.855677     12.300827     19.0     29.0   \n",
       "Term                37343.0    412.427657    121.602544     10.0    364.0   \n",
       "TotalContractValue  37343.0  22953.005142  10149.863172  10800.0  16560.0   \n",
       "\n",
       "                        50%      75%      max  \n",
       "Deposit              2000.0   2500.0   8000.0  \n",
       "AccessoryRate           0.0      0.0    240.0  \n",
       "RatePerUnit            40.0     55.0   4000.0  \n",
       "DaysOnDeposit           3.0      7.0     60.0  \n",
       "Age                    36.0     46.0    120.0  \n",
       "Term                  364.0    547.0    626.0  \n",
       "TotalContractValue  16560.0  33080.0  64484.0  "
      ]
     },
     "execution_count": 14,
     "metadata": {},
     "output_type": "execute_result"
    }
   ],
   "source": [
    "metadata.describe().transpose()"
   ]
  },
  {
   "cell_type": "code",
   "execution_count": 15,
   "id": "5a2eb3c0",
   "metadata": {
    "tags": []
   },
   "outputs": [
    {
     "data": {
      "text/html": [
       "<div>\n",
       "<style scoped>\n",
       "    .dataframe tbody tr th:only-of-type {\n",
       "        vertical-align: middle;\n",
       "    }\n",
       "\n",
       "    .dataframe tbody tr th {\n",
       "        vertical-align: top;\n",
       "    }\n",
       "\n",
       "    .dataframe thead th {\n",
       "        text-align: right;\n",
       "    }\n",
       "</style>\n",
       "<table border=\"1\" class=\"dataframe\">\n",
       "  <thead>\n",
       "    <tr style=\"text-align: right;\">\n",
       "      <th></th>\n",
       "      <th>ID</th>\n",
       "      <th>RegistrationDate</th>\n",
       "      <th>Deposit</th>\n",
       "      <th>UpsellDate</th>\n",
       "      <th>AccessoryRate</th>\n",
       "      <th>PaymentMethod</th>\n",
       "      <th>rateTypeEntity</th>\n",
       "      <th>RatePerUnit</th>\n",
       "      <th>DaysOnDeposit</th>\n",
       "      <th>MainApplicantGender</th>\n",
       "      <th>Age</th>\n",
       "      <th>Region</th>\n",
       "      <th>Town</th>\n",
       "      <th>Occupation</th>\n",
       "      <th>SupplierName</th>\n",
       "      <th>Term</th>\n",
       "      <th>TotalContractValue</th>\n",
       "      <th>ExpectedTermDate</th>\n",
       "      <th>FirstPaymentDate</th>\n",
       "    </tr>\n",
       "  </thead>\n",
       "  <tbody>\n",
       "    <tr>\n",
       "      <th>0</th>\n",
       "      <td>ID_K00S4N4</td>\n",
       "      <td>2015-12-10 00:00:00</td>\n",
       "      <td>2000</td>\n",
       "      <td>NaN</td>\n",
       "      <td>0.0</td>\n",
       "      <td>FINANCED</td>\n",
       "      <td>DAILY</td>\n",
       "      <td>35</td>\n",
       "      <td>7</td>\n",
       "      <td>Male</td>\n",
       "      <td>41.0</td>\n",
       "      <td>Mount Kenya Region</td>\n",
       "      <td>Embu</td>\n",
       "      <td>Other</td>\n",
       "      <td>d_light</td>\n",
       "      <td>364</td>\n",
       "      <td>14740.0</td>\n",
       "      <td>2016-12-08 00:00:00</td>\n",
       "      <td>2015-12-10 09:52:35</td>\n",
       "    </tr>\n",
       "    <tr>\n",
       "      <th>1</th>\n",
       "      <td>ID_6L67PAA</td>\n",
       "      <td>2015-12-09 00:00:00</td>\n",
       "      <td>2000</td>\n",
       "      <td>NaN</td>\n",
       "      <td>0.0</td>\n",
       "      <td>FINANCED</td>\n",
       "      <td>DAILY</td>\n",
       "      <td>35</td>\n",
       "      <td>7</td>\n",
       "      <td>Male</td>\n",
       "      <td>33.0</td>\n",
       "      <td>Coast Region</td>\n",
       "      <td>Kilifi</td>\n",
       "      <td>Other</td>\n",
       "      <td>d_light</td>\n",
       "      <td>364</td>\n",
       "      <td>14740.0</td>\n",
       "      <td>2016-12-07 00:00:00</td>\n",
       "      <td>2015-12-09 13:14:03</td>\n",
       "    </tr>\n",
       "    <tr>\n",
       "      <th>2</th>\n",
       "      <td>ID_102CV85</td>\n",
       "      <td>2015-12-18 00:00:00</td>\n",
       "      <td>2000</td>\n",
       "      <td>2018-03-29 10:14:58</td>\n",
       "      <td>35.0</td>\n",
       "      <td>FINANCED</td>\n",
       "      <td>DAILY</td>\n",
       "      <td>35</td>\n",
       "      <td>7</td>\n",
       "      <td>Female</td>\n",
       "      <td>48.0</td>\n",
       "      <td>Nairobi Region</td>\n",
       "      <td>Makueni</td>\n",
       "      <td>Business</td>\n",
       "      <td>d_light</td>\n",
       "      <td>392</td>\n",
       "      <td>29480.0</td>\n",
       "      <td>2017-01-13 00:00:00</td>\n",
       "      <td>2015-12-18 06:22:34</td>\n",
       "    </tr>\n",
       "    <tr>\n",
       "      <th>3</th>\n",
       "      <td>ID_HXBJFHB</td>\n",
       "      <td>2015-11-25 00:00:00</td>\n",
       "      <td>2000</td>\n",
       "      <td>NaN</td>\n",
       "      <td>0.0</td>\n",
       "      <td>FINANCED</td>\n",
       "      <td>DAILY</td>\n",
       "      <td>35</td>\n",
       "      <td>7</td>\n",
       "      <td>Female</td>\n",
       "      <td>43.0</td>\n",
       "      <td>NaN</td>\n",
       "      <td>UNKNOWN</td>\n",
       "      <td>Teacher</td>\n",
       "      <td>d_light</td>\n",
       "      <td>364</td>\n",
       "      <td>14740.0</td>\n",
       "      <td>2016-11-23 00:00:00</td>\n",
       "      <td>2015-11-25 13:25:57</td>\n",
       "    </tr>\n",
       "    <tr>\n",
       "      <th>4</th>\n",
       "      <td>ID_3K9VZ5J</td>\n",
       "      <td>2015-12-02 00:00:00</td>\n",
       "      <td>2000</td>\n",
       "      <td>NaN</td>\n",
       "      <td>0.0</td>\n",
       "      <td>FINANCED</td>\n",
       "      <td>DAILY</td>\n",
       "      <td>35</td>\n",
       "      <td>7</td>\n",
       "      <td>Female</td>\n",
       "      <td>56.0</td>\n",
       "      <td>Mount Kenya Region</td>\n",
       "      <td>Kirinyaga</td>\n",
       "      <td>Other</td>\n",
       "      <td>d_light</td>\n",
       "      <td>364</td>\n",
       "      <td>14740.0</td>\n",
       "      <td>2016-11-30 00:00:00</td>\n",
       "      <td>2015-12-05 10:34:32</td>\n",
       "    </tr>\n",
       "  </tbody>\n",
       "</table>\n",
       "</div>"
      ],
      "text/plain": [
       "           ID     RegistrationDate  Deposit           UpsellDate  \\\n",
       "0  ID_K00S4N4  2015-12-10 00:00:00     2000                  NaN   \n",
       "1  ID_6L67PAA  2015-12-09 00:00:00     2000                  NaN   \n",
       "2  ID_102CV85  2015-12-18 00:00:00     2000  2018-03-29 10:14:58   \n",
       "3  ID_HXBJFHB  2015-11-25 00:00:00     2000                  NaN   \n",
       "4  ID_3K9VZ5J  2015-12-02 00:00:00     2000                  NaN   \n",
       "\n",
       "   AccessoryRate PaymentMethod rateTypeEntity  RatePerUnit  DaysOnDeposit  \\\n",
       "0            0.0      FINANCED          DAILY           35              7   \n",
       "1            0.0      FINANCED          DAILY           35              7   \n",
       "2           35.0      FINANCED          DAILY           35              7   \n",
       "3            0.0      FINANCED          DAILY           35              7   \n",
       "4            0.0      FINANCED          DAILY           35              7   \n",
       "\n",
       "  MainApplicantGender   Age              Region       Town Occupation  \\\n",
       "0                Male  41.0  Mount Kenya Region       Embu      Other   \n",
       "1                Male  33.0        Coast Region     Kilifi      Other   \n",
       "2              Female  48.0      Nairobi Region    Makueni   Business   \n",
       "3              Female  43.0                 NaN    UNKNOWN    Teacher   \n",
       "4              Female  56.0  Mount Kenya Region  Kirinyaga      Other   \n",
       "\n",
       "  SupplierName  Term  TotalContractValue     ExpectedTermDate  \\\n",
       "0      d_light   364             14740.0  2016-12-08 00:00:00   \n",
       "1      d_light   364             14740.0  2016-12-07 00:00:00   \n",
       "2      d_light   392             29480.0  2017-01-13 00:00:00   \n",
       "3      d_light   364             14740.0  2016-11-23 00:00:00   \n",
       "4      d_light   364             14740.0  2016-11-30 00:00:00   \n",
       "\n",
       "      FirstPaymentDate  \n",
       "0  2015-12-10 09:52:35  \n",
       "1  2015-12-09 13:14:03  \n",
       "2  2015-12-18 06:22:34  \n",
       "3  2015-11-25 13:25:57  \n",
       "4  2015-12-05 10:34:32  "
      ]
     },
     "execution_count": 15,
     "metadata": {},
     "output_type": "execute_result"
    }
   ],
   "source": [
    "metadata.head(n=5)"
   ]
  },
  {
   "cell_type": "code",
   "execution_count": 16,
   "id": "6c663804",
   "metadata": {
    "tags": []
   },
   "outputs": [
    {
     "name": "stdout",
     "output_type": "stream",
     "text": [
      "<class 'pandas.core.frame.DataFrame'>\n",
      "RangeIndex: 9336 entries, 0 to 9335\n",
      "Data columns (total 3 columns):\n",
      " #   Column            Non-Null Count  Dtype \n",
      "---  ------            --------------  ----- \n",
      " 0   ID                9336 non-null   object\n",
      " 1   TransactionDates  9336 non-null   object\n",
      " 2   PaymentsHistory   9336 non-null   object\n",
      "dtypes: object(3)\n",
      "memory usage: 218.9+ KB\n"
     ]
    }
   ],
   "source": [
    "test.info()"
   ]
  },
  {
   "cell_type": "code",
   "execution_count": 17,
   "id": "f90733f5",
   "metadata": {
    "tags": []
   },
   "outputs": [
    {
     "data": {
      "text/html": [
       "<div>\n",
       "<style scoped>\n",
       "    .dataframe tbody tr th:only-of-type {\n",
       "        vertical-align: middle;\n",
       "    }\n",
       "\n",
       "    .dataframe tbody tr th {\n",
       "        vertical-align: top;\n",
       "    }\n",
       "\n",
       "    .dataframe thead th {\n",
       "        text-align: right;\n",
       "    }\n",
       "</style>\n",
       "<table border=\"1\" class=\"dataframe\">\n",
       "  <thead>\n",
       "    <tr style=\"text-align: right;\">\n",
       "      <th></th>\n",
       "      <th>count</th>\n",
       "      <th>unique</th>\n",
       "      <th>top</th>\n",
       "      <th>freq</th>\n",
       "    </tr>\n",
       "  </thead>\n",
       "  <tbody>\n",
       "    <tr>\n",
       "      <th>ID</th>\n",
       "      <td>9336</td>\n",
       "      <td>9336</td>\n",
       "      <td>ID_6L67PAA</td>\n",
       "      <td>1</td>\n",
       "    </tr>\n",
       "    <tr>\n",
       "      <th>TransactionDates</th>\n",
       "      <td>9336</td>\n",
       "      <td>2938</td>\n",
       "      <td>['01-2020', '02-2020', '03-2020', '04-2020', '...</td>\n",
       "      <td>333</td>\n",
       "    </tr>\n",
       "    <tr>\n",
       "      <th>PaymentsHistory</th>\n",
       "      <td>9336</td>\n",
       "      <td>9290</td>\n",
       "      <td>[3500.0, 1000.0, 1000.0, 1000.0, 1000.0, 1000....</td>\n",
       "      <td>15</td>\n",
       "    </tr>\n",
       "  </tbody>\n",
       "</table>\n",
       "</div>"
      ],
      "text/plain": [
       "                 count unique  \\\n",
       "ID                9336   9336   \n",
       "TransactionDates  9336   2938   \n",
       "PaymentsHistory   9336   9290   \n",
       "\n",
       "                                                                top freq  \n",
       "ID                                                       ID_6L67PAA    1  \n",
       "TransactionDates  ['01-2020', '02-2020', '03-2020', '04-2020', '...  333  \n",
       "PaymentsHistory   [3500.0, 1000.0, 1000.0, 1000.0, 1000.0, 1000....   15  "
      ]
     },
     "execution_count": 17,
     "metadata": {},
     "output_type": "execute_result"
    }
   ],
   "source": [
    "test.describe().transpose()"
   ]
  },
  {
   "cell_type": "code",
   "execution_count": 18,
   "id": "a4e180e5",
   "metadata": {
    "tags": []
   },
   "outputs": [
    {
     "data": {
      "text/html": [
       "<div>\n",
       "<style scoped>\n",
       "    .dataframe tbody tr th:only-of-type {\n",
       "        vertical-align: middle;\n",
       "    }\n",
       "\n",
       "    .dataframe tbody tr th {\n",
       "        vertical-align: top;\n",
       "    }\n",
       "\n",
       "    .dataframe thead th {\n",
       "        text-align: right;\n",
       "    }\n",
       "</style>\n",
       "<table border=\"1\" class=\"dataframe\">\n",
       "  <thead>\n",
       "    <tr style=\"text-align: right;\">\n",
       "      <th></th>\n",
       "      <th>ID</th>\n",
       "      <th>TransactionDates</th>\n",
       "      <th>PaymentsHistory</th>\n",
       "    </tr>\n",
       "  </thead>\n",
       "  <tbody>\n",
       "    <tr>\n",
       "      <th>0</th>\n",
       "      <td>ID_6L67PAA</td>\n",
       "      <td>['12-2015', '01-2016', '02-2016', '03-2016', '...</td>\n",
       "      <td>[4000.0, 1050.0, 1050.0, 1050.0, 1050.0, 400.0]</td>\n",
       "    </tr>\n",
       "    <tr>\n",
       "      <th>1</th>\n",
       "      <td>ID_VJ80SX2</td>\n",
       "      <td>['12-2015', '01-2016', '02-2016', '03-2016', '...</td>\n",
       "      <td>[3000.0, 850.0, 750.0, 1500.0, 650.0, 1250.0, ...</td>\n",
       "    </tr>\n",
       "    <tr>\n",
       "      <th>2</th>\n",
       "      <td>ID_7OU9HLK</td>\n",
       "      <td>['12-2015', '01-2016', '03-2016', '05-2016', '...</td>\n",
       "      <td>[2400.0, 300.0, 500.0, 450.0, 675.0, 700.0, 87...</td>\n",
       "    </tr>\n",
       "    <tr>\n",
       "      <th>3</th>\n",
       "      <td>ID_WVWTPGK</td>\n",
       "      <td>['12-2015', '01-2016', '02-2016', '03-2016', '...</td>\n",
       "      <td>[4700.0, 1200.0, 950.0, 1200.0, 900.0, 1110.0,...</td>\n",
       "    </tr>\n",
       "    <tr>\n",
       "      <th>4</th>\n",
       "      <td>ID_04DSDQS</td>\n",
       "      <td>['12-2015', '01-2016', '02-2016', '03-2016', '...</td>\n",
       "      <td>[4800.0, 750.0, 995.0, 995.0, 1300.0, 750.0, 1...</td>\n",
       "    </tr>\n",
       "  </tbody>\n",
       "</table>\n",
       "</div>"
      ],
      "text/plain": [
       "           ID                                   TransactionDates  \\\n",
       "0  ID_6L67PAA  ['12-2015', '01-2016', '02-2016', '03-2016', '...   \n",
       "1  ID_VJ80SX2  ['12-2015', '01-2016', '02-2016', '03-2016', '...   \n",
       "2  ID_7OU9HLK  ['12-2015', '01-2016', '03-2016', '05-2016', '...   \n",
       "3  ID_WVWTPGK  ['12-2015', '01-2016', '02-2016', '03-2016', '...   \n",
       "4  ID_04DSDQS  ['12-2015', '01-2016', '02-2016', '03-2016', '...   \n",
       "\n",
       "                                     PaymentsHistory  \n",
       "0    [4000.0, 1050.0, 1050.0, 1050.0, 1050.0, 400.0]  \n",
       "1  [3000.0, 850.0, 750.0, 1500.0, 650.0, 1250.0, ...  \n",
       "2  [2400.0, 300.0, 500.0, 450.0, 675.0, 700.0, 87...  \n",
       "3  [4700.0, 1200.0, 950.0, 1200.0, 900.0, 1110.0,...  \n",
       "4  [4800.0, 750.0, 995.0, 995.0, 1300.0, 750.0, 1...  "
      ]
     },
     "execution_count": 18,
     "metadata": {},
     "output_type": "execute_result"
    }
   ],
   "source": [
    "test.head(n=5)"
   ]
  },
  {
   "cell_type": "code",
   "execution_count": 19,
   "id": "7bb55857",
   "metadata": {
    "tags": []
   },
   "outputs": [
    {
     "name": "stdout",
     "output_type": "stream",
     "text": [
      "---------------- Missing values Report ----------------\n",
      "ID                  0\n",
      "TransactionDates    0\n",
      "PaymentsHistory     0\n",
      "m1                  0\n",
      "m2                  0\n",
      "m3                  0\n",
      "m4                  0\n",
      "m5                  0\n",
      "m6                  0\n",
      "dtype: int64\n"
     ]
    }
   ],
   "source": [
    "print(\"---------------- Missing values Report ----------------\")\n",
    "print(train.isna().sum())"
   ]
  },
  {
   "cell_type": "code",
   "execution_count": 20,
   "id": "7def72c4",
   "metadata": {
    "tags": []
   },
   "outputs": [
    {
     "name": "stdout",
     "output_type": "stream",
     "text": [
      "---------------- Missing values Report ----------------\n",
      "ID                  0\n",
      "TransactionDates    0\n",
      "PaymentsHistory     0\n",
      "dtype: int64\n"
     ]
    }
   ],
   "source": [
    "print(\"---------------- Missing values Report ----------------\")\n",
    "print(test.isna().sum())"
   ]
  },
  {
   "cell_type": "code",
   "execution_count": 21,
   "id": "cfea2e48",
   "metadata": {
    "tags": []
   },
   "outputs": [
    {
     "name": "stdout",
     "output_type": "stream",
     "text": [
      "---------------- Missing values Report ----------------\n",
      "ID                         0\n",
      "RegistrationDate           0\n",
      "Deposit                    0\n",
      "UpsellDate             36370\n",
      "AccessoryRate              0\n",
      "PaymentMethod              0\n",
      "rateTypeEntity             0\n",
      "RatePerUnit                0\n",
      "DaysOnDeposit              0\n",
      "MainApplicantGender        0\n",
      "Age                     6939\n",
      "Region                  1934\n",
      "Town                       0\n",
      "Occupation                 0\n",
      "SupplierName               0\n",
      "Term                       0\n",
      "TotalContractValue         0\n",
      "ExpectedTermDate           0\n",
      "FirstPaymentDate           0\n",
      "dtype: int64\n"
     ]
    }
   ],
   "source": [
    "print(\"---------------- Missing values Report ----------------\")\n",
    "print(metadata.isna().sum())"
   ]
  },
  {
   "cell_type": "code",
   "execution_count": 9,
   "id": "eefa6277-eef1-4904-9969-56a787d582f0",
   "metadata": {},
   "outputs": [],
   "source": [
    "# creating lastpayment date\n",
    "def CreateLastPayment(val):\n",
    "    date_lists = ast.literal_eval(val)\n",
    "    return pd.to_datetime(date_lists[-1])\n",
    "\n",
    "train.insert(3,'LastPaymentDate',train['TransactionDates'].apply(CreateLastPayment))\n",
    "test.insert(3, 'LastPaymentDate',test['TransactionDates'].apply(CreateLastPayment))"
   ]
  },
  {
   "cell_type": "code",
   "execution_count": 23,
   "id": "c9bad9d0-2c77-43ca-9546-93523b80633d",
   "metadata": {},
   "outputs": [
    {
     "data": {
      "text/html": [
       "<div>\n",
       "<style scoped>\n",
       "    .dataframe tbody tr th:only-of-type {\n",
       "        vertical-align: middle;\n",
       "    }\n",
       "\n",
       "    .dataframe tbody tr th {\n",
       "        vertical-align: top;\n",
       "    }\n",
       "\n",
       "    .dataframe thead th {\n",
       "        text-align: right;\n",
       "    }\n",
       "</style>\n",
       "<table border=\"1\" class=\"dataframe\">\n",
       "  <thead>\n",
       "    <tr style=\"text-align: right;\">\n",
       "      <th></th>\n",
       "      <th>ID</th>\n",
       "      <th>TransactionDates</th>\n",
       "      <th>PaymentsHistory</th>\n",
       "      <th>LastPaymentDate</th>\n",
       "      <th>m1</th>\n",
       "      <th>m2</th>\n",
       "      <th>m3</th>\n",
       "      <th>m4</th>\n",
       "      <th>m5</th>\n",
       "      <th>m6</th>\n",
       "    </tr>\n",
       "  </thead>\n",
       "  <tbody>\n",
       "    <tr>\n",
       "      <th>0</th>\n",
       "      <td>ID_MR53LEX</td>\n",
       "      <td>['04-2018', '05-2018', '06-2018', '07-2018', '...</td>\n",
       "      <td>[3600.0, 750.0, 350.0, 65.0, 95.0, 135.0, 85.0...</td>\n",
       "      <td>2020-11-01</td>\n",
       "      <td>880.0</td>\n",
       "      <td>930.0</td>\n",
       "      <td>495.0</td>\n",
       "      <td>715.0</td>\n",
       "      <td>220.0</td>\n",
       "      <td>385.0</td>\n",
       "    </tr>\n",
       "    <tr>\n",
       "      <th>1</th>\n",
       "      <td>ID_3D7NQUH</td>\n",
       "      <td>['04-2018', '05-2018', '06-2018', '07-2018', '...</td>\n",
       "      <td>[2940.0, 970.0, 380.0, 880.0, 385.0, 440.0, 11...</td>\n",
       "      <td>2020-11-01</td>\n",
       "      <td>660.0</td>\n",
       "      <td>935.0</td>\n",
       "      <td>935.0</td>\n",
       "      <td>825.0</td>\n",
       "      <td>770.0</td>\n",
       "      <td>935.0</td>\n",
       "    </tr>\n",
       "    <tr>\n",
       "      <th>2</th>\n",
       "      <td>ID_0IWQNPI</td>\n",
       "      <td>['02-2020', '03-2020', '04-2020', '05-2020', '...</td>\n",
       "      <td>[2850.0, 1500.0, 1350.0, 610.0, 200.0, 250.0]</td>\n",
       "      <td>2020-07-01</td>\n",
       "      <td>700.0</td>\n",
       "      <td>1350.0</td>\n",
       "      <td>1550.0</td>\n",
       "      <td>1400.0</td>\n",
       "      <td>1450.0</td>\n",
       "      <td>1200.0</td>\n",
       "    </tr>\n",
       "    <tr>\n",
       "      <th>3</th>\n",
       "      <td>ID_IY8SYB9</td>\n",
       "      <td>['09-2017', '10-2017', '11-2017', '12-2017', '...</td>\n",
       "      <td>[2200.0, 1420.0, 1180.0, 900.0, 1400.0, 780.0,...</td>\n",
       "      <td>2018-06-01</td>\n",
       "      <td>580.0</td>\n",
       "      <td>480.0</td>\n",
       "      <td>800.0</td>\n",
       "      <td>1260.0</td>\n",
       "      <td>1650.0</td>\n",
       "      <td>530.0</td>\n",
       "    </tr>\n",
       "    <tr>\n",
       "      <th>4</th>\n",
       "      <td>ID_9XHL7VZ</td>\n",
       "      <td>['09-2017', '10-2017', '11-2017', '12-2017', '...</td>\n",
       "      <td>[2640.0, 910.0, 480.0, 280.0, 200.0, 180.0, 33...</td>\n",
       "      <td>2019-11-01</td>\n",
       "      <td>40.0</td>\n",
       "      <td>440.0</td>\n",
       "      <td>460.0</td>\n",
       "      <td>360.0</td>\n",
       "      <td>80.0</td>\n",
       "      <td>330.0</td>\n",
       "    </tr>\n",
       "  </tbody>\n",
       "</table>\n",
       "</div>"
      ],
      "text/plain": [
       "           ID                                   TransactionDates  \\\n",
       "0  ID_MR53LEX  ['04-2018', '05-2018', '06-2018', '07-2018', '...   \n",
       "1  ID_3D7NQUH  ['04-2018', '05-2018', '06-2018', '07-2018', '...   \n",
       "2  ID_0IWQNPI  ['02-2020', '03-2020', '04-2020', '05-2020', '...   \n",
       "3  ID_IY8SYB9  ['09-2017', '10-2017', '11-2017', '12-2017', '...   \n",
       "4  ID_9XHL7VZ  ['09-2017', '10-2017', '11-2017', '12-2017', '...   \n",
       "\n",
       "                                     PaymentsHistory LastPaymentDate     m1  \\\n",
       "0  [3600.0, 750.0, 350.0, 65.0, 95.0, 135.0, 85.0...      2020-11-01  880.0   \n",
       "1  [2940.0, 970.0, 380.0, 880.0, 385.0, 440.0, 11...      2020-11-01  660.0   \n",
       "2      [2850.0, 1500.0, 1350.0, 610.0, 200.0, 250.0]      2020-07-01  700.0   \n",
       "3  [2200.0, 1420.0, 1180.0, 900.0, 1400.0, 780.0,...      2018-06-01  580.0   \n",
       "4  [2640.0, 910.0, 480.0, 280.0, 200.0, 180.0, 33...      2019-11-01   40.0   \n",
       "\n",
       "       m2      m3      m4      m5      m6  \n",
       "0   930.0   495.0   715.0   220.0   385.0  \n",
       "1   935.0   935.0   825.0   770.0   935.0  \n",
       "2  1350.0  1550.0  1400.0  1450.0  1200.0  \n",
       "3   480.0   800.0  1260.0  1650.0   530.0  \n",
       "4   440.0   460.0   360.0    80.0   330.0  "
      ]
     },
     "execution_count": 23,
     "metadata": {},
     "output_type": "execute_result"
    }
   ],
   "source": [
    "train.head()"
   ]
  },
  {
   "cell_type": "code",
   "execution_count": 24,
   "id": "2aff1d2f-7f61-46bf-86a3-b8e56893062e",
   "metadata": {},
   "outputs": [
    {
     "data": {
      "text/html": [
       "<div>\n",
       "<style scoped>\n",
       "    .dataframe tbody tr th:only-of-type {\n",
       "        vertical-align: middle;\n",
       "    }\n",
       "\n",
       "    .dataframe tbody tr th {\n",
       "        vertical-align: top;\n",
       "    }\n",
       "\n",
       "    .dataframe thead th {\n",
       "        text-align: right;\n",
       "    }\n",
       "</style>\n",
       "<table border=\"1\" class=\"dataframe\">\n",
       "  <thead>\n",
       "    <tr style=\"text-align: right;\">\n",
       "      <th></th>\n",
       "      <th>ID</th>\n",
       "      <th>TransactionDates</th>\n",
       "      <th>PaymentsHistory</th>\n",
       "      <th>LastPaymentDate</th>\n",
       "    </tr>\n",
       "  </thead>\n",
       "  <tbody>\n",
       "    <tr>\n",
       "      <th>0</th>\n",
       "      <td>ID_6L67PAA</td>\n",
       "      <td>['12-2015', '01-2016', '02-2016', '03-2016', '...</td>\n",
       "      <td>[4000.0, 1050.0, 1050.0, 1050.0, 1050.0, 400.0]</td>\n",
       "      <td>2016-07-01</td>\n",
       "    </tr>\n",
       "    <tr>\n",
       "      <th>1</th>\n",
       "      <td>ID_VJ80SX2</td>\n",
       "      <td>['12-2015', '01-2016', '02-2016', '03-2016', '...</td>\n",
       "      <td>[3000.0, 850.0, 750.0, 1500.0, 650.0, 1250.0, ...</td>\n",
       "      <td>2016-06-01</td>\n",
       "    </tr>\n",
       "    <tr>\n",
       "      <th>2</th>\n",
       "      <td>ID_7OU9HLK</td>\n",
       "      <td>['12-2015', '01-2016', '03-2016', '05-2016', '...</td>\n",
       "      <td>[2400.0, 300.0, 500.0, 450.0, 675.0, 700.0, 87...</td>\n",
       "      <td>2017-02-01</td>\n",
       "    </tr>\n",
       "    <tr>\n",
       "      <th>3</th>\n",
       "      <td>ID_WVWTPGK</td>\n",
       "      <td>['12-2015', '01-2016', '02-2016', '03-2016', '...</td>\n",
       "      <td>[4700.0, 1200.0, 950.0, 1200.0, 900.0, 1110.0,...</td>\n",
       "      <td>2016-11-01</td>\n",
       "    </tr>\n",
       "    <tr>\n",
       "      <th>4</th>\n",
       "      <td>ID_04DSDQS</td>\n",
       "      <td>['12-2015', '01-2016', '02-2016', '03-2016', '...</td>\n",
       "      <td>[4800.0, 750.0, 995.0, 995.0, 1300.0, 750.0, 1...</td>\n",
       "      <td>2016-08-01</td>\n",
       "    </tr>\n",
       "  </tbody>\n",
       "</table>\n",
       "</div>"
      ],
      "text/plain": [
       "           ID                                   TransactionDates  \\\n",
       "0  ID_6L67PAA  ['12-2015', '01-2016', '02-2016', '03-2016', '...   \n",
       "1  ID_VJ80SX2  ['12-2015', '01-2016', '02-2016', '03-2016', '...   \n",
       "2  ID_7OU9HLK  ['12-2015', '01-2016', '03-2016', '05-2016', '...   \n",
       "3  ID_WVWTPGK  ['12-2015', '01-2016', '02-2016', '03-2016', '...   \n",
       "4  ID_04DSDQS  ['12-2015', '01-2016', '02-2016', '03-2016', '...   \n",
       "\n",
       "                                     PaymentsHistory LastPaymentDate  \n",
       "0    [4000.0, 1050.0, 1050.0, 1050.0, 1050.0, 400.0]      2016-07-01  \n",
       "1  [3000.0, 850.0, 750.0, 1500.0, 650.0, 1250.0, ...      2016-06-01  \n",
       "2  [2400.0, 300.0, 500.0, 450.0, 675.0, 700.0, 87...      2017-02-01  \n",
       "3  [4700.0, 1200.0, 950.0, 1200.0, 900.0, 1110.0,...      2016-11-01  \n",
       "4  [4800.0, 750.0, 995.0, 995.0, 1300.0, 750.0, 1...      2016-08-01  "
      ]
     },
     "execution_count": 24,
     "metadata": {},
     "output_type": "execute_result"
    }
   ],
   "source": [
    "test.head()"
   ]
  },
  {
   "cell_type": "code",
   "execution_count": 10,
   "id": "1fd36d81-1661-4849-b54d-4f7403bbd7e6",
   "metadata": {},
   "outputs": [],
   "source": [
    "train['No_of_previous_payments'] = train['TransactionDates'].apply(lambda val: len(ast.literal_eval(val)))\n",
    "test['No_of_previous_payments'] = test['TransactionDates'].apply(lambda val: len(ast.literal_eval(val)))\n",
    "data = pd.concat([train,test], ignore_index=True)"
   ]
  },
  {
   "cell_type": "code",
   "execution_count": 11,
   "id": "8babbb6a-27f6-4385-b08f-eb92e22c3be6",
   "metadata": {},
   "outputs": [],
   "source": [
    "max_npay = data['No_of_previous_payments'].max()\n",
    "\n",
    "# highest number of payment hisory\n",
    "max_phist = data[data['No_of_previous_payments']==max_npay]"
   ]
  },
  {
   "cell_type": "code",
   "execution_count": 12,
   "id": "08b8b128-b054-407e-809d-79b371b55125",
   "metadata": {},
   "outputs": [],
   "source": [
    "tdates = ast.literal_eval(max_phist['TransactionDates'].iloc[0])\n",
    "#assigning initial payment dates\n",
    "maxdate, mindate = pd.to_datetime(tdates[-1]), pd.to_datetime(tdates[0])\n",
    "def findMinMaxdate(date_vals):\n",
    "    \"\"\"finds the most recent payment date and first ever payment date\"\"\"\n",
    "    dates = ast.literal_eval(date_vals)\n",
    "    temp_min = pd.to_datetime(dates[0])\n",
    "    temp_max = pd.to_datetime(dates[-1])\n",
    "    global maxdate\n",
    "    global mindate\n",
    "    if maxdate < temp_max:\n",
    "        maxdate = temp_max\n",
    "    if mindate > temp_min:\n",
    "        mindate = temp_min\n",
    "    "
   ]
  },
  {
   "cell_type": "code",
   "execution_count": 13,
   "id": "2a7b5663-6b4e-415c-bbf6-9915f9b6760e",
   "metadata": {},
   "outputs": [
    {
     "name": "stdout",
     "output_type": "stream",
     "text": [
      "Min date before: 2016-08-01 00:00:00       Max date before: 2020-11-01 00:00:00\n",
      "Min date after: 2015-11-01 00:00:00       Max date after: 2020-11-01 00:00:00\n"
     ]
    }
   ],
   "source": [
    "print('Min date before: {}       Max date before: {}'.format(mindate,maxdate))\n",
    "data['TransactionDates'].apply(findMinMaxdate)\n",
    "print('Min date after: {}       Max date after: {}'.format(mindate,maxdate))"
   ]
  },
  {
   "cell_type": "code",
   "execution_count": 14,
   "id": "8e43e1a8-5ee2-41c7-ab06-b8d203f7ab98",
   "metadata": {},
   "outputs": [],
   "source": [
    "dates = []\n",
    "def make_series(val):\n",
    "    \"\"\" Construct a series of all unique date in the data set\"\"\"\n",
    "    global dates\n",
    "    dates = list(set(ast.literal_eval(val) + dates))\n",
    "    return \n",
    "data.TransactionDates.apply(make_series)\n",
    "unique_dates = pd.Series(dates,name='dates')    "
   ]
  },
  {
   "cell_type": "code",
   "execution_count": 30,
   "id": "59be4ab5-3118-46e6-b92a-d88fa606ca04",
   "metadata": {},
   "outputs": [
    {
     "data": {
      "text/plain": [
       "0     04-2016\n",
       "1     09-2019\n",
       "2     02-2020\n",
       "3     01-2016\n",
       "4     02-2016\n",
       "       ...   \n",
       "56    11-2019\n",
       "57    07-2018\n",
       "58    11-2015\n",
       "59    05-2017\n",
       "60    04-2019\n",
       "Name: dates, Length: 61, dtype: object"
      ]
     },
     "execution_count": 30,
     "metadata": {},
     "output_type": "execute_result"
    }
   ],
   "source": [
    "unique_dates"
   ]
  },
  {
   "cell_type": "code",
   "execution_count": null,
   "id": "4315a584-55d2-4c9e-acdf-109ed13e5e99",
   "metadata": {},
   "outputs": [],
   "source": [
    "# create a dateframe where the columns are the unique transaction dates. The values correspon to the payment history of each observation.\n",
    "# *** Running this cell is computationally expensive. I have written the generated dataframe to disk and saved as PaymentHistory.csv which you can\n",
    "# you can load in as an alternative.***\n",
    "%%time\n",
    "df = pd.DataFrame(columns=unique_dates)\n",
    "for idx, row in tqdm(data[['PaymentsHistory','TransactionDates']].iterrows(), 'Creating Rows'): \n",
    "    payment_hist , trans_dates =  ast.literal_eval(row['PaymentsHistory']),ast.literal_eval(row['TransactionDates'])\n",
    "    for payment,trans_date in zip(payment_hist,trans_dates):\n",
    "        df.loc[idx,trans_date] = payment\n",
    "df.fillna(0, inplace=True)"
   ]
  },
  {
   "cell_type": "code",
   "execution_count": 15,
   "id": "d77d5e9a-1e00-425a-ad57-b435b8ec6555",
   "metadata": {},
   "outputs": [],
   "source": [
    "df = pd.read_csv('PaymentHistory.csv')"
   ]
  },
  {
   "cell_type": "code",
   "execution_count": 18,
   "id": "89f842e9-e36c-4c63-b21e-c01c93ccec84",
   "metadata": {},
   "outputs": [
    {
     "data": {
      "text/html": [
       "<div>\n",
       "<style scoped>\n",
       "    .dataframe tbody tr th:only-of-type {\n",
       "        vertical-align: middle;\n",
       "    }\n",
       "\n",
       "    .dataframe tbody tr th {\n",
       "        vertical-align: top;\n",
       "    }\n",
       "\n",
       "    .dataframe thead th {\n",
       "        text-align: right;\n",
       "    }\n",
       "</style>\n",
       "<table border=\"1\" class=\"dataframe\">\n",
       "  <thead>\n",
       "    <tr style=\"text-align: right;\">\n",
       "      <th></th>\n",
       "      <th>05-2020</th>\n",
       "      <th>07-2019</th>\n",
       "      <th>12-2017</th>\n",
       "      <th>08-2016</th>\n",
       "      <th>03-2016</th>\n",
       "      <th>06-2019</th>\n",
       "      <th>05-2018</th>\n",
       "      <th>05-2016</th>\n",
       "      <th>08-2017</th>\n",
       "      <th>02-2017</th>\n",
       "      <th>...</th>\n",
       "      <th>10-2018</th>\n",
       "      <th>05-2017</th>\n",
       "      <th>06-2018</th>\n",
       "      <th>03-2017</th>\n",
       "      <th>04-2017</th>\n",
       "      <th>11-2019</th>\n",
       "      <th>05-2019</th>\n",
       "      <th>02-2018</th>\n",
       "      <th>07-2020</th>\n",
       "      <th>08-2019</th>\n",
       "    </tr>\n",
       "  </thead>\n",
       "  <tbody>\n",
       "    <tr>\n",
       "      <th>0</th>\n",
       "      <td>230.0</td>\n",
       "      <td>440.0</td>\n",
       "      <td>0.0</td>\n",
       "      <td>0.0</td>\n",
       "      <td>0.0</td>\n",
       "      <td>185.0</td>\n",
       "      <td>750.0</td>\n",
       "      <td>0.0</td>\n",
       "      <td>0.0</td>\n",
       "      <td>0.0</td>\n",
       "      <td>...</td>\n",
       "      <td>85.0</td>\n",
       "      <td>0.0</td>\n",
       "      <td>350.0</td>\n",
       "      <td>0.0</td>\n",
       "      <td>0.0</td>\n",
       "      <td>292.0</td>\n",
       "      <td>585.0</td>\n",
       "      <td>0.0</td>\n",
       "      <td>660.0</td>\n",
       "      <td>483.0</td>\n",
       "    </tr>\n",
       "    <tr>\n",
       "      <th>1</th>\n",
       "      <td>442.0</td>\n",
       "      <td>660.0</td>\n",
       "      <td>0.0</td>\n",
       "      <td>0.0</td>\n",
       "      <td>0.0</td>\n",
       "      <td>880.0</td>\n",
       "      <td>970.0</td>\n",
       "      <td>0.0</td>\n",
       "      <td>0.0</td>\n",
       "      <td>0.0</td>\n",
       "      <td>...</td>\n",
       "      <td>0.0</td>\n",
       "      <td>0.0</td>\n",
       "      <td>380.0</td>\n",
       "      <td>0.0</td>\n",
       "      <td>0.0</td>\n",
       "      <td>770.0</td>\n",
       "      <td>935.0</td>\n",
       "      <td>0.0</td>\n",
       "      <td>605.0</td>\n",
       "      <td>770.0</td>\n",
       "    </tr>\n",
       "    <tr>\n",
       "      <th>2</th>\n",
       "      <td>610.0</td>\n",
       "      <td>0.0</td>\n",
       "      <td>0.0</td>\n",
       "      <td>0.0</td>\n",
       "      <td>0.0</td>\n",
       "      <td>0.0</td>\n",
       "      <td>0.0</td>\n",
       "      <td>0.0</td>\n",
       "      <td>0.0</td>\n",
       "      <td>0.0</td>\n",
       "      <td>...</td>\n",
       "      <td>0.0</td>\n",
       "      <td>0.0</td>\n",
       "      <td>0.0</td>\n",
       "      <td>0.0</td>\n",
       "      <td>0.0</td>\n",
       "      <td>0.0</td>\n",
       "      <td>0.0</td>\n",
       "      <td>0.0</td>\n",
       "      <td>250.0</td>\n",
       "      <td>0.0</td>\n",
       "    </tr>\n",
       "    <tr>\n",
       "      <th>3</th>\n",
       "      <td>0.0</td>\n",
       "      <td>0.0</td>\n",
       "      <td>900.0</td>\n",
       "      <td>0.0</td>\n",
       "      <td>0.0</td>\n",
       "      <td>0.0</td>\n",
       "      <td>600.0</td>\n",
       "      <td>0.0</td>\n",
       "      <td>0.0</td>\n",
       "      <td>0.0</td>\n",
       "      <td>...</td>\n",
       "      <td>0.0</td>\n",
       "      <td>0.0</td>\n",
       "      <td>380.0</td>\n",
       "      <td>0.0</td>\n",
       "      <td>0.0</td>\n",
       "      <td>0.0</td>\n",
       "      <td>0.0</td>\n",
       "      <td>780.0</td>\n",
       "      <td>0.0</td>\n",
       "      <td>0.0</td>\n",
       "    </tr>\n",
       "    <tr>\n",
       "      <th>4</th>\n",
       "      <td>0.0</td>\n",
       "      <td>80.0</td>\n",
       "      <td>280.0</td>\n",
       "      <td>0.0</td>\n",
       "      <td>0.0</td>\n",
       "      <td>0.0</td>\n",
       "      <td>370.0</td>\n",
       "      <td>0.0</td>\n",
       "      <td>0.0</td>\n",
       "      <td>0.0</td>\n",
       "      <td>...</td>\n",
       "      <td>40.0</td>\n",
       "      <td>0.0</td>\n",
       "      <td>289.0</td>\n",
       "      <td>0.0</td>\n",
       "      <td>0.0</td>\n",
       "      <td>520.0</td>\n",
       "      <td>0.0</td>\n",
       "      <td>180.0</td>\n",
       "      <td>0.0</td>\n",
       "      <td>40.0</td>\n",
       "    </tr>\n",
       "  </tbody>\n",
       "</table>\n",
       "<p>5 rows × 61 columns</p>\n",
       "</div>"
      ],
      "text/plain": [
       "   05-2020  07-2019  12-2017  08-2016  03-2016  06-2019  05-2018  05-2016  \\\n",
       "0    230.0    440.0      0.0      0.0      0.0    185.0    750.0      0.0   \n",
       "1    442.0    660.0      0.0      0.0      0.0    880.0    970.0      0.0   \n",
       "2    610.0      0.0      0.0      0.0      0.0      0.0      0.0      0.0   \n",
       "3      0.0      0.0    900.0      0.0      0.0      0.0    600.0      0.0   \n",
       "4      0.0     80.0    280.0      0.0      0.0      0.0    370.0      0.0   \n",
       "\n",
       "   08-2017  02-2017  ...  10-2018  05-2017  06-2018  03-2017  04-2017  \\\n",
       "0      0.0      0.0  ...     85.0      0.0    350.0      0.0      0.0   \n",
       "1      0.0      0.0  ...      0.0      0.0    380.0      0.0      0.0   \n",
       "2      0.0      0.0  ...      0.0      0.0      0.0      0.0      0.0   \n",
       "3      0.0      0.0  ...      0.0      0.0    380.0      0.0      0.0   \n",
       "4      0.0      0.0  ...     40.0      0.0    289.0      0.0      0.0   \n",
       "\n",
       "   11-2019  05-2019  02-2018  07-2020  08-2019  \n",
       "0    292.0    585.0      0.0    660.0    483.0  \n",
       "1    770.0    935.0      0.0    605.0    770.0  \n",
       "2      0.0      0.0      0.0    250.0      0.0  \n",
       "3      0.0      0.0    780.0      0.0      0.0  \n",
       "4    520.0      0.0    180.0      0.0     40.0  \n",
       "\n",
       "[5 rows x 61 columns]"
      ]
     },
     "execution_count": 18,
     "metadata": {},
     "output_type": "execute_result"
    }
   ],
   "source": [
    "df.head()"
   ]
  },
  {
   "cell_type": "code",
   "execution_count": 17,
   "id": "85e6ab7c",
   "metadata": {
    "tags": []
   },
   "outputs": [],
   "source": [
    "merged = pd.merge(left=metadata, right=pd.concat(objs=[train, test]).fillna(value=0.), on=\"ID\")"
   ]
  },
  {
   "cell_type": "code",
   "execution_count": 19,
   "id": "c4b00ecf",
   "metadata": {},
   "outputs": [],
   "source": [
    "merged = create_target(df=merged, window=4)"
   ]
  },
  {
   "cell_type": "code",
   "execution_count": 17,
   "id": "069e2cec",
   "metadata": {
    "tags": []
   },
   "outputs": [
    {
     "ename": "NameError",
     "evalue": "name 'pyplot' is not defined",
     "output_type": "error",
     "traceback": [
      "\u001b[1;31m---------------------------------------------------------------------------\u001b[0m",
      "\u001b[1;31mNameError\u001b[0m                                 Traceback (most recent call last)",
      "\u001b[1;32m<ipython-input-17-f5c1c26350cb>\u001b[0m in \u001b[0;36m<module>\u001b[1;34m\u001b[0m\n\u001b[0;32m      2\u001b[0m \u001b[1;33m\u001b[0m\u001b[0m\n\u001b[0;32m      3\u001b[0m \u001b[1;31m### some visualization\u001b[0m\u001b[1;33m\u001b[0m\u001b[1;33m\u001b[0m\u001b[1;33m\u001b[0m\u001b[0m\n\u001b[1;32m----> 4\u001b[1;33m \u001b[0mfig\u001b[0m \u001b[1;33m=\u001b[0m \u001b[0mget_viz\u001b[0m\u001b[1;33m(\u001b[0m\u001b[0mdf\u001b[0m\u001b[1;33m=\u001b[0m\u001b[0mmerged\u001b[0m\u001b[1;33m)\u001b[0m\u001b[1;33m\u001b[0m\u001b[1;33m\u001b[0m\u001b[0m\n\u001b[0m",
      "\u001b[1;32m<ipython-input-4-6b0008756ff5>\u001b[0m in \u001b[0;36mget_viz\u001b[1;34m(df)\u001b[0m\n\u001b[0;32m     76\u001b[0m     \"\"\"\n\u001b[0;32m     77\u001b[0m \u001b[1;33m\u001b[0m\u001b[0m\n\u001b[1;32m---> 78\u001b[1;33m     \u001b[0mfig\u001b[0m\u001b[1;33m,\u001b[0m \u001b[0maxes\u001b[0m \u001b[1;33m=\u001b[0m \u001b[0mpyplot\u001b[0m\u001b[1;33m.\u001b[0m\u001b[0msubplots\u001b[0m\u001b[1;33m(\u001b[0m\u001b[0mfigsize\u001b[0m\u001b[1;33m=\u001b[0m\u001b[1;33m(\u001b[0m\u001b[1;36m25\u001b[0m\u001b[1;33m,\u001b[0m \u001b[1;36m15\u001b[0m\u001b[1;33m)\u001b[0m\u001b[1;33m,\u001b[0m \u001b[0mnrows\u001b[0m\u001b[1;33m=\u001b[0m\u001b[1;36m2\u001b[0m\u001b[1;33m,\u001b[0m \u001b[0mncols\u001b[0m\u001b[1;33m=\u001b[0m\u001b[1;36m3\u001b[0m\u001b[1;33m)\u001b[0m\u001b[1;33m\u001b[0m\u001b[1;33m\u001b[0m\u001b[0m\n\u001b[0m\u001b[0;32m     79\u001b[0m \u001b[1;33m\u001b[0m\u001b[0m\n\u001b[0;32m     80\u001b[0m     \u001b[1;31m# class distrib\u001b[0m\u001b[1;33m\u001b[0m\u001b[1;33m\u001b[0m\u001b[1;33m\u001b[0m\u001b[0m\n",
      "\u001b[1;31mNameError\u001b[0m: name 'pyplot' is not defined"
     ]
    }
   ],
   "source": [
    "merged = create_target(df=merged, window=4)\n",
    "\n",
    "### some visualization\n",
    "fig = get_viz(df=merged)"
   ]
  },
  {
   "cell_type": "code",
   "execution_count": 25,
   "id": "2efe8f77",
   "metadata": {},
   "outputs": [
    {
     "data": {
      "image/png": "[encoded data removed]",
      "text/plain": [
       "<Figure size 432x288 with 1 Axes>"
      ]
     },
     "metadata": {
      "needs_background": "light"
     },
     "output_type": "display_data"
    },
    {
     "data": {
      "image/png": "[encoded data removed]",
      "text/plain": [
       "<Figure size 432x288 with 1 Axes>"
      ]
     },
     "metadata": {
      "needs_background": "light"
     },
     "output_type": "display_data"
    },
    {
     "data": {
      "image/png": "[encoded data removed]",
      "text/plain": [
       "<Figure size 432x288 with 1 Axes>"
      ]
     },
     "metadata": {
      "needs_background": "light"
     },
     "output_type": "display_data"
    },
    {
     "data": {
      "image/png": "[encoded data removed]",
      "text/plain": [
       "<Figure size 432x288 with 1 Axes>"
      ]
     },
     "metadata": {
      "needs_background": "light"
     },
     "output_type": "display_data"
    },
    {
     "data": {
      "image/png": "[encoded data removed]",
      "text/plain": [
       "<Figure size 432x288 with 1 Axes>"
      ]
     },
     "metadata": {
      "needs_background": "light"
     },
     "output_type": "display_data"
    },
    {
     "data": {
      "image/png": "[encoded data removed]",
      "text/plain": [
       "<Figure size 432x288 with 1 Axes>"
      ]
     },
     "metadata": {
      "needs_background": "light"
     },
     "output_type": "display_data"
    }
   ],
   "source": [
    "for col in train.columns[-6:]:\n",
    "    \n",
    "    plt.figure()\n",
    "    #plt.subplot(2,2,i)\n",
    "    sns.distplot(train[col])\n",
    "    #print(col)"
   ]
  },
  {
   "cell_type": "code",
   "execution_count": 151,
   "id": "585d8456-c673-4548-9341-84130ba15ed6",
   "metadata": {},
   "outputs": [
    {
     "data": {
      "image/png": "[encoded data removed]",
      "text/plain": [
       "<Figure size 432x288 with 1 Axes>"
      ]
     },
     "metadata": {
      "needs_background": "light"
     },
     "output_type": "display_data"
    },
    {
     "data": {
      "image/png": "[encoded data removed]",
      "text/plain": [
       "<Figure size 432x288 with 1 Axes>"
      ]
     },
     "metadata": {
      "needs_background": "light"
     },
     "output_type": "display_data"
    },
    {
     "data": {
      "image/png": "[encoded data removed]",
      "text/plain": [
       "<Figure size 432x288 with 1 Axes>"
      ]
     },
     "metadata": {
      "needs_background": "light"
     },
     "output_type": "display_data"
    },
    {
     "data": {
      "image/png": "[encoded data removed]",
      "text/plain": [
       "<Figure size 432x288 with 1 Axes>"
      ]
     },
     "metadata": {
      "needs_background": "light"
     },
     "output_type": "display_data"
    },
    {
     "data": {
      "image/png": "[encoded data removed]",
      "text/plain": [
       "<Figure size 432x288 with 1 Axes>"
      ]
     },
     "metadata": {
      "needs_background": "light"
     },
     "output_type": "display_data"
    },
    {
     "data": {
      "image/png": "[encoded data removed]",
      "text/plain": [
       "<Figure size 432x288 with 1 Axes>"
      ]
     },
     "metadata": {
      "needs_background": "light"
     },
     "output_type": "display_data"
    }
   ],
   "source": [
    "# Since the targets are greatly skewed we apply log transformaton\n",
    "\n",
    "for target in train.columns[-6:]:\n",
    "    train[target] = train[target].apply(np.log)\n",
    "\n",
    "for col in train.columns[-6:]:\n",
    "    plt.figure()\n",
    "    sns.distplot(train[col])"
   ]
  },
  {
   "cell_type": "code",
   "execution_count": 26,
   "id": "acec4c0b",
   "metadata": {},
   "outputs": [
    {
     "data": {
      "text/plain": [
       "<AxesSubplot:>"
      ]
     },
     "execution_count": 26,
     "metadata": {},
     "output_type": "execute_result"
    },
    {
     "data": {
      "image/png": "[encoded data removed]",
      "text/plain": [
       "<Figure size 576x432 with 2 Axes>"
      ]
     },
     "metadata": {
      "needs_background": "light"
     },
     "output_type": "display_data"
    }
   ],
   "source": [
    "plt.figure(figsize=(8,6))\n",
    "sns.heatmap(train.iloc[-6:].corr(), annot=True)"
   ]
  },
  {
   "cell_type": "markdown",
   "id": "5a49a8dd",
   "metadata": {},
   "source": [
    "### Preprocessing"
   ]
  },
  {
   "cell_type": "code",
   "execution_count": 27,
   "id": "03cd8813",
   "metadata": {
    "tags": []
   },
   "outputs": [
    {
     "name": "stderr",
     "output_type": "stream",
     "text": [
      "Processing categorical columns \t: 100%|██████████████████████████████████████████████████| 7/7 [00:00<00:00, 26.82it/s]\n",
      "Processing datetime columns \t: 100%|█████████████████████████████████████████████████████| 5/5 [00:00<00:00,  7.07it/s]\n",
      "Checking for no of missing and dropping empty-like columns: 100%|█████████████████████| 27/27 [00:00<00:00, 122.17it/s]\n"
     ]
    },
    {
     "name": "stdout",
     "output_type": "stream",
     "text": [
      "The following columns have been dropped ['UpsellDate']\n"
     ]
    }
   ],
   "source": [
    "merged_ = preprocess_data(dff=merged, skip_cols=[\"PaymentsHistory\", \"TransactionDates\"])"
   ]
  },
  {
   "cell_type": "code",
   "execution_count": 21,
   "id": "9ac9bfcd",
   "metadata": {
    "tags": []
   },
   "outputs": [
    {
     "data": {
      "text/plain": [
       "ID                                   0\n",
       "RegistrationDate                     0\n",
       "Deposit                              0\n",
       "AccessoryRate                        0\n",
       "RatePerUnit                          0\n",
       "DaysOnDeposit                        0\n",
       "Age                                  0\n",
       "Town                                 0\n",
       "Term                                 0\n",
       "TotalContractValue                   0\n",
       "ExpectedTermDate                     0\n",
       "FirstPaymentDate                     0\n",
       "TransactionDates                     0\n",
       "PaymentsHistory                      0\n",
       "LastPaymentDate                      0\n",
       "m1                                   0\n",
       "m2                                   0\n",
       "m3                                   0\n",
       "m4                                   0\n",
       "m5                                   0\n",
       "m6                                   0\n",
       "No_of_previous_payments              0\n",
       "Target                               0\n",
       "rateTypeEntity_MONTHLY               0\n",
       "rateTypeEntity_WEEKLY                0\n",
       "MainApplicantGender_Male             0\n",
       "Region_Mount Kenya Region            0\n",
       "Region_Nairobi Region                0\n",
       "Region_North Rift                    0\n",
       "Region_Nyanza                        0\n",
       "Region_South Rift                    0\n",
       "Region_Western                       0\n",
       "Occupation_Driver/Motorbike Rider    0\n",
       "Occupation_Farmer                    0\n",
       "Occupation_Government Employee       0\n",
       "Occupation_Labourer                  0\n",
       "Occupation_Other                     0\n",
       "Occupation_Teacher                   0\n",
       "dtype: int64"
      ]
     },
     "execution_count": 21,
     "metadata": {},
     "output_type": "execute_result"
    }
   ],
   "source": [
    "merged_.isna().sum()"
   ]
  },
  {
   "cell_type": "markdown",
   "id": "3fc328f8",
   "metadata": {},
   "source": [
    "### Features extraction"
   ]
  },
  {
   "cell_type": "code",
   "execution_count": 28,
   "id": "6d0b8e95",
   "metadata": {
    "tags": []
   },
   "outputs": [
    {
     "data": {
      "text/html": [
       "<div>\n",
       "<style scoped>\n",
       "    .dataframe tbody tr th:only-of-type {\n",
       "        vertical-align: middle;\n",
       "    }\n",
       "\n",
       "    .dataframe tbody tr th {\n",
       "        vertical-align: top;\n",
       "    }\n",
       "\n",
       "    .dataframe thead th {\n",
       "        text-align: right;\n",
       "    }\n",
       "</style>\n",
       "<table border=\"1\" class=\"dataframe\">\n",
       "  <thead>\n",
       "    <tr style=\"text-align: right;\">\n",
       "      <th></th>\n",
       "      <th>ID</th>\n",
       "      <th>RegistrationDate</th>\n",
       "      <th>Deposit</th>\n",
       "      <th>AccessoryRate</th>\n",
       "      <th>RatePerUnit</th>\n",
       "      <th>DaysOnDeposit</th>\n",
       "      <th>Age</th>\n",
       "      <th>Town</th>\n",
       "      <th>Term</th>\n",
       "      <th>TotalContractValue</th>\n",
       "      <th>...</th>\n",
       "      <th>Occupation_Farmer</th>\n",
       "      <th>Occupation_Government Employee</th>\n",
       "      <th>Occupation_Labourer</th>\n",
       "      <th>Occupation_Other</th>\n",
       "      <th>Occupation_Teacher</th>\n",
       "      <th>RegisteredInLeapYear</th>\n",
       "      <th>RegisteredAtMonthStart</th>\n",
       "      <th>RegisteredAtMonthEnd</th>\n",
       "      <th>LastPaymentMonth</th>\n",
       "      <th>FirstPaymentMonth</th>\n",
       "    </tr>\n",
       "  </thead>\n",
       "  <tbody>\n",
       "    <tr>\n",
       "      <th>0</th>\n",
       "      <td>ID_K00S4N4</td>\n",
       "      <td>2015-12-10</td>\n",
       "      <td>2000</td>\n",
       "      <td>0.0</td>\n",
       "      <td>35</td>\n",
       "      <td>7</td>\n",
       "      <td>41.0</td>\n",
       "      <td>5</td>\n",
       "      <td>364</td>\n",
       "      <td>14740.0</td>\n",
       "      <td>...</td>\n",
       "      <td>0</td>\n",
       "      <td>0</td>\n",
       "      <td>0</td>\n",
       "      <td>1</td>\n",
       "      <td>0</td>\n",
       "      <td>0.0</td>\n",
       "      <td>0.0</td>\n",
       "      <td>0.0</td>\n",
       "      <td>4</td>\n",
       "      <td>12</td>\n",
       "    </tr>\n",
       "    <tr>\n",
       "      <th>1</th>\n",
       "      <td>ID_6L67PAA</td>\n",
       "      <td>2015-12-09</td>\n",
       "      <td>2000</td>\n",
       "      <td>0.0</td>\n",
       "      <td>35</td>\n",
       "      <td>7</td>\n",
       "      <td>33.0</td>\n",
       "      <td>13</td>\n",
       "      <td>364</td>\n",
       "      <td>14740.0</td>\n",
       "      <td>...</td>\n",
       "      <td>0</td>\n",
       "      <td>0</td>\n",
       "      <td>0</td>\n",
       "      <td>1</td>\n",
       "      <td>0</td>\n",
       "      <td>0.0</td>\n",
       "      <td>0.0</td>\n",
       "      <td>0.0</td>\n",
       "      <td>7</td>\n",
       "      <td>12</td>\n",
       "    </tr>\n",
       "    <tr>\n",
       "      <th>2</th>\n",
       "      <td>ID_102CV85</td>\n",
       "      <td>2015-12-18</td>\n",
       "      <td>2000</td>\n",
       "      <td>35.0</td>\n",
       "      <td>35</td>\n",
       "      <td>7</td>\n",
       "      <td>48.0</td>\n",
       "      <td>22</td>\n",
       "      <td>392</td>\n",
       "      <td>29480.0</td>\n",
       "      <td>...</td>\n",
       "      <td>0</td>\n",
       "      <td>0</td>\n",
       "      <td>0</td>\n",
       "      <td>0</td>\n",
       "      <td>0</td>\n",
       "      <td>0.0</td>\n",
       "      <td>0.0</td>\n",
       "      <td>0.0</td>\n",
       "      <td>8</td>\n",
       "      <td>12</td>\n",
       "    </tr>\n",
       "    <tr>\n",
       "      <th>3</th>\n",
       "      <td>ID_HXBJFHB</td>\n",
       "      <td>2015-11-25</td>\n",
       "      <td>2000</td>\n",
       "      <td>0.0</td>\n",
       "      <td>35</td>\n",
       "      <td>7</td>\n",
       "      <td>43.0</td>\n",
       "      <td>43</td>\n",
       "      <td>364</td>\n",
       "      <td>14740.0</td>\n",
       "      <td>...</td>\n",
       "      <td>0</td>\n",
       "      <td>0</td>\n",
       "      <td>0</td>\n",
       "      <td>0</td>\n",
       "      <td>1</td>\n",
       "      <td>0.0</td>\n",
       "      <td>0.0</td>\n",
       "      <td>0.0</td>\n",
       "      <td>10</td>\n",
       "      <td>11</td>\n",
       "    </tr>\n",
       "    <tr>\n",
       "      <th>4</th>\n",
       "      <td>ID_3K9VZ5J</td>\n",
       "      <td>2015-12-02</td>\n",
       "      <td>2000</td>\n",
       "      <td>0.0</td>\n",
       "      <td>35</td>\n",
       "      <td>7</td>\n",
       "      <td>56.0</td>\n",
       "      <td>14</td>\n",
       "      <td>364</td>\n",
       "      <td>14740.0</td>\n",
       "      <td>...</td>\n",
       "      <td>0</td>\n",
       "      <td>0</td>\n",
       "      <td>0</td>\n",
       "      <td>1</td>\n",
       "      <td>0</td>\n",
       "      <td>0.0</td>\n",
       "      <td>0.0</td>\n",
       "      <td>0.0</td>\n",
       "      <td>11</td>\n",
       "      <td>12</td>\n",
       "    </tr>\n",
       "  </tbody>\n",
       "</table>\n",
       "<p>5 rows × 35 columns</p>\n",
       "</div>"
      ],
      "text/plain": [
       "           ID RegistrationDate  Deposit  AccessoryRate  RatePerUnit  \\\n",
       "0  ID_K00S4N4       2015-12-10     2000            0.0           35   \n",
       "1  ID_6L67PAA       2015-12-09     2000            0.0           35   \n",
       "2  ID_102CV85       2015-12-18     2000           35.0           35   \n",
       "3  ID_HXBJFHB       2015-11-25     2000            0.0           35   \n",
       "4  ID_3K9VZ5J       2015-12-02     2000            0.0           35   \n",
       "\n",
       "   DaysOnDeposit   Age  Town  Term  TotalContractValue  ... Occupation_Farmer  \\\n",
       "0              7  41.0     5   364             14740.0  ...                 0   \n",
       "1              7  33.0    13   364             14740.0  ...                 0   \n",
       "2              7  48.0    22   392             29480.0  ...                 0   \n",
       "3              7  43.0    43   364             14740.0  ...                 0   \n",
       "4              7  56.0    14   364             14740.0  ...                 0   \n",
       "\n",
       "  Occupation_Government Employee Occupation_Labourer  Occupation_Other  \\\n",
       "0                              0                   0                 1   \n",
       "1                              0                   0                 1   \n",
       "2                              0                   0                 0   \n",
       "3                              0                   0                 0   \n",
       "4                              0                   0                 1   \n",
       "\n",
       "   Occupation_Teacher  RegisteredInLeapYear  RegisteredAtMonthStart  \\\n",
       "0                   0                   0.0                     0.0   \n",
       "1                   0                   0.0                     0.0   \n",
       "2                   0                   0.0                     0.0   \n",
       "3                   1                   0.0                     0.0   \n",
       "4                   0                   0.0                     0.0   \n",
       "\n",
       "   RegisteredAtMonthEnd  LastPaymentMonth  FirstPaymentMonth  \n",
       "0                   0.0                 4                 12  \n",
       "1                   0.0                 7                 12  \n",
       "2                   0.0                 8                 12  \n",
       "3                   0.0                10                 11  \n",
       "4                   0.0                11                 12  \n",
       "\n",
       "[5 rows x 35 columns]"
      ]
     },
     "execution_count": 28,
     "metadata": {},
     "output_type": "execute_result"
    }
   ],
   "source": [
    "merged_ = extract_features(df=merged_)\n",
    "merged_.head(n=5)"
   ]
  },
  {
   "cell_type": "code",
   "execution_count": 29,
   "id": "f3656f76",
   "metadata": {},
   "outputs": [],
   "source": [
    "# getting rows on metadata that corressponds to the test data base on ID\n",
    "test_indx = [row[0] for row in merged_[['ID']].iterrows() if row[1]['ID'] in test['ID'].values]"
   ]
  },
  {
   "cell_type": "code",
   "execution_count": 30,
   "id": "4af41d00",
   "metadata": {},
   "outputs": [
    {
     "data": {
      "text/plain": [
       "[1, 5, 8, 9, 12, 15, 25, 30, 36, 37]"
      ]
     },
     "execution_count": 30,
     "metadata": {},
     "output_type": "execute_result"
    }
   ],
   "source": [
    "test_indx[:10]"
   ]
  },
  {
   "cell_type": "code",
   "execution_count": 25,
   "id": "5ddb6693",
   "metadata": {},
   "outputs": [
    {
     "name": "stdout",
     "output_type": "stream",
     "text": [
      "<class 'pandas.core.frame.DataFrame'>\n",
      "Int64Index: 37343 entries, 0 to 37342\n",
      "Data columns (total 35 columns):\n",
      " #   Column                             Non-Null Count  Dtype         \n",
      "---  ------                             --------------  -----         \n",
      " 0   ID                                 37343 non-null  object        \n",
      " 1   RegistrationDate                   37343 non-null  datetime64[ns]\n",
      " 2   Deposit                            37343 non-null  int64         \n",
      " 3   AccessoryRate                      37343 non-null  float64       \n",
      " 4   RatePerUnit                        37343 non-null  int64         \n",
      " 5   DaysOnDeposit                      37343 non-null  int64         \n",
      " 6   Age                                37343 non-null  float64       \n",
      " 7   Town                               37343 non-null  int8          \n",
      " 8   Term                               37343 non-null  int64         \n",
      " 9   TotalContractValue                 37343 non-null  float64       \n",
      " 10  ExpectedTermDate                   37343 non-null  datetime64[ns]\n",
      " 11  FirstPaymentDate                   37343 non-null  datetime64[ns]\n",
      " 12  LastPaymentDate                    37343 non-null  datetime64[ns]\n",
      " 13  No_of_previous_payments            37343 non-null  int64         \n",
      " 14  Target                             37343 non-null  float64       \n",
      " 15  rateTypeEntity_MONTHLY             37343 non-null  uint8         \n",
      " 16  rateTypeEntity_WEEKLY              37343 non-null  uint8         \n",
      " 17  MainApplicantGender_Male           37343 non-null  uint8         \n",
      " 18  Region_Mount Kenya Region          37343 non-null  uint8         \n",
      " 19  Region_Nairobi Region              37343 non-null  uint8         \n",
      " 20  Region_North Rift                  37343 non-null  uint8         \n",
      " 21  Region_Nyanza                      37343 non-null  uint8         \n",
      " 22  Region_South Rift                  37343 non-null  uint8         \n",
      " 23  Region_Western                     37343 non-null  uint8         \n",
      " 24  Occupation_Driver/Motorbike Rider  37343 non-null  uint8         \n",
      " 25  Occupation_Farmer                  37343 non-null  uint8         \n",
      " 26  Occupation_Government Employee     37343 non-null  uint8         \n",
      " 27  Occupation_Labourer                37343 non-null  uint8         \n",
      " 28  Occupation_Other                   37343 non-null  uint8         \n",
      " 29  Occupation_Teacher                 37343 non-null  uint8         \n",
      " 30  RegisteredInLeapYear               37343 non-null  float64       \n",
      " 31  RegisteredAtMonthStart             37343 non-null  float64       \n",
      " 32  RegisteredAtMonthEnd               37343 non-null  float64       \n",
      " 33  LastPaymentMonth                   37343 non-null  int64         \n",
      " 34  FirstPaymentMonth                  37343 non-null  int64         \n",
      "dtypes: datetime64[ns](4), float64(7), int64(7), int8(1), object(1), uint8(15)\n",
      "memory usage: 6.3+ MB\n"
     ]
    }
   ],
   "source": [
    "merged_.info()"
   ]
  },
  {
   "cell_type": "code",
   "execution_count": 31,
   "id": "e9039856",
   "metadata": {},
   "outputs": [
    {
     "data": {
      "text/plain": [
       "['ID']"
      ]
     },
     "execution_count": 31,
     "metadata": {},
     "output_type": "execute_result"
    }
   ],
   "source": [
    "useless = [col for col in merged_.columns if merged_[col].nunique() == 1 or  merged_[col].nunique() == merged.shape[0]]\n",
    "useless"
   ]
  },
  {
   "cell_type": "code",
   "execution_count": 32,
   "id": "6cb9af03",
   "metadata": {
    "tags": []
   },
   "outputs": [
    {
     "name": "stdout",
     "output_type": "stream",
     "text": [
      "> Training inputs shape : (28007, 29), Training targets shape : (28007,)\n",
      "> Test inputs shape : (9336, 29)\n"
     ]
    }
   ],
   "source": [
    "selected_features = [c for c in merged_.columns if \"Date\" not in c and c not in useless and c != 'Target']\n",
    "\n",
    "# splitting the actual train set and test set\n",
    "train_loan = merged_[selected_features].drop(test_indx)\n",
    "status = merged_.Target.drop(test_indx)\n",
    "\n",
    "# since there is no information on previous data about payment history on the test set then we will drop the target \n",
    "# created for it as it might be miss leading. It is much reasonable if we predict these from the train set\n",
    "test_loan = merged_[selected_features].loc[test_indx]\n",
    "\n",
    "## Split\n",
    "\"\"\"xtrain_loan, xval_loan, ytrain_loan, yval_loan = train_test_split(\n",
    "    xtrain_loan, \n",
    "    ytrain_loan, \n",
    "    test_size=.3, \n",
    "    random_state=21, \n",
    "    shuffle=True\n",
    ")\"\"\"\n",
    "\n",
    "scaler = StandardScaler()\n",
    "##Fit scaler\n",
    "scaler.fit(X=train_loan.values)\n",
    "\n",
    "## Scale data\n",
    "xtrain_loan = pd.DataFrame(scaler.transform(X=train_loan.values), columns=selected_features)\n",
    "xtest_loan = pd.DataFrame(scaler.transform(X=test_loan.values), columns=selected_features)\n",
    "\n",
    "print(f\"> Training inputs shape : {xtrain_loan.shape}, Training targets shape : {status.shape}\")\n",
    "print(f\"> Test inputs shape : {xtest_loan.shape}\")"
   ]
  },
  {
   "cell_type": "code",
   "execution_count": 33,
   "id": "ca27d256",
   "metadata": {},
   "outputs": [
    {
     "name": "stdout",
     "output_type": "stream",
     "text": [
      "Column \t\tTrain \t\tTest\n",
      "\n",
      "Deposit ------------> 11----------->10\n",
      "AccessoryRate ------------> 18----------->8\n",
      "RatePerUnit ------------> 11----------->9\n",
      "DaysOnDeposit ------------> 6----------->6\n",
      "Age ------------> 80----------->75\n",
      "Town ------------> 48----------->48\n",
      "Term ------------> 46----------->28\n",
      "TotalContractValue ------------> 30----------->22\n",
      "No_of_previous_payments ------------> 39----------->37\n",
      "rateTypeEntity_MONTHLY ------------> 2----------->2\n",
      "rateTypeEntity_WEEKLY ------------> 2----------->2\n",
      "MainApplicantGender_Male ------------> 2----------->2\n",
      "Region_Mount Kenya Region ------------> 2----------->2\n",
      "Region_Nairobi Region ------------> 2----------->2\n",
      "Region_North Rift ------------> 2----------->2\n",
      "Region_Nyanza ------------> 2----------->2\n",
      "Region_South Rift ------------> 2----------->2\n",
      "Region_Western ------------> 2----------->2\n",
      "Occupation_Driver/Motorbike Rider ------------> 2----------->2\n",
      "Occupation_Farmer ------------> 2----------->2\n",
      "Occupation_Government Employee ------------> 2----------->2\n",
      "Occupation_Labourer ------------> 2----------->2\n",
      "Occupation_Other ------------> 2----------->2\n",
      "Occupation_Teacher ------------> 2----------->2\n",
      "RegisteredInLeapYear ------------> 2----------->2\n",
      "RegisteredAtMonthStart ------------> 2----------->2\n",
      "RegisteredAtMonthEnd ------------> 2----------->2\n",
      "LastPaymentMonth ------------> 12----------->12\n",
      "FirstPaymentMonth ------------> 12----------->12\n"
     ]
    }
   ],
   "source": [
    "print('Column \\t\\tTrain \\t\\tTest\\n')\n",
    "for col in xtrain_loan.columns:\n",
    "    print(col,'------------>',xtrain_loan[col].nunique(), end='----------->'); print(xtest_loan[col].nunique())"
   ]
  },
  {
   "cell_type": "markdown",
   "id": "8c359555",
   "metadata": {},
   "source": [
    "### Train/Val split"
   ]
  },
  {
   "cell_type": "code",
   "execution_count": 29,
   "id": "601781b7-fd29-4486-9b02-17aa695fd620",
   "metadata": {},
   "outputs": [
    {
     "data": {
      "text/html": [
       "<div>\n",
       "<style scoped>\n",
       "    .dataframe tbody tr th:only-of-type {\n",
       "        vertical-align: middle;\n",
       "    }\n",
       "\n",
       "    .dataframe tbody tr th {\n",
       "        vertical-align: top;\n",
       "    }\n",
       "\n",
       "    .dataframe thead th {\n",
       "        text-align: right;\n",
       "    }\n",
       "</style>\n",
       "<table border=\"1\" class=\"dataframe\">\n",
       "  <thead>\n",
       "    <tr style=\"text-align: right;\">\n",
       "      <th></th>\n",
       "      <th>ID</th>\n",
       "      <th>TransactionDates</th>\n",
       "      <th>PaymentsHistory</th>\n",
       "      <th>LastPaymentDate</th>\n",
       "      <th>m1</th>\n",
       "      <th>m2</th>\n",
       "      <th>m3</th>\n",
       "      <th>m4</th>\n",
       "      <th>m5</th>\n",
       "      <th>m6</th>\n",
       "      <th>No_of_previous_payments</th>\n",
       "    </tr>\n",
       "  </thead>\n",
       "  <tbody>\n",
       "    <tr>\n",
       "      <th>0</th>\n",
       "      <td>ID_MR53LEX</td>\n",
       "      <td>['04-2018', '05-2018', '06-2018', '07-2018', '...</td>\n",
       "      <td>[3600.0, 750.0, 350.0, 65.0, 95.0, 135.0, 85.0...</td>\n",
       "      <td>2020-11-01</td>\n",
       "      <td>880.0</td>\n",
       "      <td>930.0</td>\n",
       "      <td>495.0</td>\n",
       "      <td>715.0</td>\n",
       "      <td>220.0</td>\n",
       "      <td>385.0</td>\n",
       "      <td>31</td>\n",
       "    </tr>\n",
       "    <tr>\n",
       "      <th>1</th>\n",
       "      <td>ID_3D7NQUH</td>\n",
       "      <td>['04-2018', '05-2018', '06-2018', '07-2018', '...</td>\n",
       "      <td>[2940.0, 970.0, 380.0, 880.0, 385.0, 440.0, 11...</td>\n",
       "      <td>2020-11-01</td>\n",
       "      <td>660.0</td>\n",
       "      <td>935.0</td>\n",
       "      <td>935.0</td>\n",
       "      <td>825.0</td>\n",
       "      <td>770.0</td>\n",
       "      <td>935.0</td>\n",
       "      <td>30</td>\n",
       "    </tr>\n",
       "    <tr>\n",
       "      <th>2</th>\n",
       "      <td>ID_0IWQNPI</td>\n",
       "      <td>['02-2020', '03-2020', '04-2020', '05-2020', '...</td>\n",
       "      <td>[2850.0, 1500.0, 1350.0, 610.0, 200.0, 250.0]</td>\n",
       "      <td>2020-07-01</td>\n",
       "      <td>700.0</td>\n",
       "      <td>1350.0</td>\n",
       "      <td>1550.0</td>\n",
       "      <td>1400.0</td>\n",
       "      <td>1450.0</td>\n",
       "      <td>1200.0</td>\n",
       "      <td>6</td>\n",
       "    </tr>\n",
       "    <tr>\n",
       "      <th>3</th>\n",
       "      <td>ID_IY8SYB9</td>\n",
       "      <td>['09-2017', '10-2017', '11-2017', '12-2017', '...</td>\n",
       "      <td>[2200.0, 1420.0, 1180.0, 900.0, 1400.0, 780.0,...</td>\n",
       "      <td>2018-06-01</td>\n",
       "      <td>580.0</td>\n",
       "      <td>480.0</td>\n",
       "      <td>800.0</td>\n",
       "      <td>1260.0</td>\n",
       "      <td>1650.0</td>\n",
       "      <td>530.0</td>\n",
       "      <td>10</td>\n",
       "    </tr>\n",
       "    <tr>\n",
       "      <th>4</th>\n",
       "      <td>ID_9XHL7VZ</td>\n",
       "      <td>['09-2017', '10-2017', '11-2017', '12-2017', '...</td>\n",
       "      <td>[2640.0, 910.0, 480.0, 280.0, 200.0, 180.0, 33...</td>\n",
       "      <td>2019-11-01</td>\n",
       "      <td>40.0</td>\n",
       "      <td>440.0</td>\n",
       "      <td>460.0</td>\n",
       "      <td>360.0</td>\n",
       "      <td>80.0</td>\n",
       "      <td>330.0</td>\n",
       "      <td>22</td>\n",
       "    </tr>\n",
       "  </tbody>\n",
       "</table>\n",
       "</div>"
      ],
      "text/plain": [
       "           ID                                   TransactionDates  \\\n",
       "0  ID_MR53LEX  ['04-2018', '05-2018', '06-2018', '07-2018', '...   \n",
       "1  ID_3D7NQUH  ['04-2018', '05-2018', '06-2018', '07-2018', '...   \n",
       "2  ID_0IWQNPI  ['02-2020', '03-2020', '04-2020', '05-2020', '...   \n",
       "3  ID_IY8SYB9  ['09-2017', '10-2017', '11-2017', '12-2017', '...   \n",
       "4  ID_9XHL7VZ  ['09-2017', '10-2017', '11-2017', '12-2017', '...   \n",
       "\n",
       "                                     PaymentsHistory LastPaymentDate     m1  \\\n",
       "0  [3600.0, 750.0, 350.0, 65.0, 95.0, 135.0, 85.0...      2020-11-01  880.0   \n",
       "1  [2940.0, 970.0, 380.0, 880.0, 385.0, 440.0, 11...      2020-11-01  660.0   \n",
       "2      [2850.0, 1500.0, 1350.0, 610.0, 200.0, 250.0]      2020-07-01  700.0   \n",
       "3  [2200.0, 1420.0, 1180.0, 900.0, 1400.0, 780.0,...      2018-06-01  580.0   \n",
       "4  [2640.0, 910.0, 480.0, 280.0, 200.0, 180.0, 33...      2019-11-01   40.0   \n",
       "\n",
       "       m2      m3      m4      m5      m6  No_of_previous_payments  \n",
       "0   930.0   495.0   715.0   220.0   385.0                       31  \n",
       "1   935.0   935.0   825.0   770.0   935.0                       30  \n",
       "2  1350.0  1550.0  1400.0  1450.0  1200.0                        6  \n",
       "3   480.0   800.0  1260.0  1650.0   530.0                       10  \n",
       "4   440.0   460.0   360.0    80.0   330.0                       22  "
      ]
     },
     "execution_count": 29,
     "metadata": {},
     "output_type": "execute_result"
    }
   ],
   "source": [
    "data.head()"
   ]
  },
  {
   "cell_type": "code",
   "execution_count": 37,
   "id": "c7a9d437-8dac-4066-8f26-68f799a78e25",
   "metadata": {},
   "outputs": [],
   "source": [
    "df.insert(0,'ID',data.ID)"
   ]
  },
  {
   "cell_type": "code",
   "execution_count": 45,
   "id": "a8aed4da-362f-4dd4-985b-b8cf81b18bbb",
   "metadata": {},
   "outputs": [],
   "source": [
    "df_m = pd.merge(df,metadata[['ID','Age','TotalContractValue','Term','Deposit']], on='ID')"
   ]
  },
  {
   "cell_type": "code",
   "execution_count": 38,
   "id": "507db373-812c-42a6-9869-e71f9714f040",
   "metadata": {},
   "outputs": [],
   "source": [
    "df.index = df.ID"
   ]
  },
  {
   "cell_type": "code",
   "execution_count": 39,
   "id": "72435fcd-6581-436d-9831-ab2a9b1239d9",
   "metadata": {},
   "outputs": [],
   "source": [
    "df.drop('ID', axis=1, inplace=True)"
   ]
  },
  {
   "cell_type": "code",
   "execution_count": 40,
   "id": "9c4f55ea-0b0b-4e7a-ad49-0d0a392b1194",
   "metadata": {},
   "outputs": [],
   "source": [
    "train_df = df.loc[train.ID,:]\n",
    "test_df = df.loc[test.ID,:]"
   ]
  },
  {
   "cell_type": "code",
   "execution_count": 41,
   "id": "8b55cc61-b86e-4840-a5fb-43825263a1a7",
   "metadata": {},
   "outputs": [
    {
     "data": {
      "text/plain": [
       "((28007, 61), (9336, 61))"
      ]
     },
     "execution_count": 41,
     "metadata": {},
     "output_type": "execute_result"
    }
   ],
   "source": [
    "train_df.shape, test_df.shape"
   ]
  },
  {
   "cell_type": "code",
   "execution_count": 44,
   "id": "c0b28a9b-545c-4476-a9bd-17a8b2d194df",
   "metadata": {},
   "outputs": [
    {
     "data": {
      "text/html": [
       "<div>\n",
       "<style scoped>\n",
       "    .dataframe tbody tr th:only-of-type {\n",
       "        vertical-align: middle;\n",
       "    }\n",
       "\n",
       "    .dataframe tbody tr th {\n",
       "        vertical-align: top;\n",
       "    }\n",
       "\n",
       "    .dataframe thead th {\n",
       "        text-align: right;\n",
       "    }\n",
       "</style>\n",
       "<table border=\"1\" class=\"dataframe\">\n",
       "  <thead>\n",
       "    <tr style=\"text-align: right;\">\n",
       "      <th></th>\n",
       "      <th>ID</th>\n",
       "      <th>TransactionDates</th>\n",
       "      <th>PaymentsHistory</th>\n",
       "      <th>LastPaymentDate</th>\n",
       "      <th>m1</th>\n",
       "      <th>m2</th>\n",
       "      <th>m3</th>\n",
       "      <th>m4</th>\n",
       "      <th>m5</th>\n",
       "      <th>m6</th>\n",
       "      <th>No_of_previous_payments</th>\n",
       "    </tr>\n",
       "  </thead>\n",
       "  <tbody>\n",
       "    <tr>\n",
       "      <th>0</th>\n",
       "      <td>ID_MR53LEX</td>\n",
       "      <td>['04-2018', '05-2018', '06-2018', '07-2018', '...</td>\n",
       "      <td>[3600.0, 750.0, 350.0, 65.0, 95.0, 135.0, 85.0...</td>\n",
       "      <td>2020-11-01</td>\n",
       "      <td>880.0</td>\n",
       "      <td>930.0</td>\n",
       "      <td>495.0</td>\n",
       "      <td>715.0</td>\n",
       "      <td>220.0</td>\n",
       "      <td>385.0</td>\n",
       "      <td>31</td>\n",
       "    </tr>\n",
       "    <tr>\n",
       "      <th>1</th>\n",
       "      <td>ID_3D7NQUH</td>\n",
       "      <td>['04-2018', '05-2018', '06-2018', '07-2018', '...</td>\n",
       "      <td>[2940.0, 970.0, 380.0, 880.0, 385.0, 440.0, 11...</td>\n",
       "      <td>2020-11-01</td>\n",
       "      <td>660.0</td>\n",
       "      <td>935.0</td>\n",
       "      <td>935.0</td>\n",
       "      <td>825.0</td>\n",
       "      <td>770.0</td>\n",
       "      <td>935.0</td>\n",
       "      <td>30</td>\n",
       "    </tr>\n",
       "    <tr>\n",
       "      <th>2</th>\n",
       "      <td>ID_0IWQNPI</td>\n",
       "      <td>['02-2020', '03-2020', '04-2020', '05-2020', '...</td>\n",
       "      <td>[2850.0, 1500.0, 1350.0, 610.0, 200.0, 250.0]</td>\n",
       "      <td>2020-07-01</td>\n",
       "      <td>700.0</td>\n",
       "      <td>1350.0</td>\n",
       "      <td>1550.0</td>\n",
       "      <td>1400.0</td>\n",
       "      <td>1450.0</td>\n",
       "      <td>1200.0</td>\n",
       "      <td>6</td>\n",
       "    </tr>\n",
       "    <tr>\n",
       "      <th>3</th>\n",
       "      <td>ID_IY8SYB9</td>\n",
       "      <td>['09-2017', '10-2017', '11-2017', '12-2017', '...</td>\n",
       "      <td>[2200.0, 1420.0, 1180.0, 900.0, 1400.0, 780.0,...</td>\n",
       "      <td>2018-06-01</td>\n",
       "      <td>580.0</td>\n",
       "      <td>480.0</td>\n",
       "      <td>800.0</td>\n",
       "      <td>1260.0</td>\n",
       "      <td>1650.0</td>\n",
       "      <td>530.0</td>\n",
       "      <td>10</td>\n",
       "    </tr>\n",
       "    <tr>\n",
       "      <th>4</th>\n",
       "      <td>ID_9XHL7VZ</td>\n",
       "      <td>['09-2017', '10-2017', '11-2017', '12-2017', '...</td>\n",
       "      <td>[2640.0, 910.0, 480.0, 280.0, 200.0, 180.0, 33...</td>\n",
       "      <td>2019-11-01</td>\n",
       "      <td>40.0</td>\n",
       "      <td>440.0</td>\n",
       "      <td>460.0</td>\n",
       "      <td>360.0</td>\n",
       "      <td>80.0</td>\n",
       "      <td>330.0</td>\n",
       "      <td>22</td>\n",
       "    </tr>\n",
       "    <tr>\n",
       "      <th>...</th>\n",
       "      <td>...</td>\n",
       "      <td>...</td>\n",
       "      <td>...</td>\n",
       "      <td>...</td>\n",
       "      <td>...</td>\n",
       "      <td>...</td>\n",
       "      <td>...</td>\n",
       "      <td>...</td>\n",
       "      <td>...</td>\n",
       "      <td>...</td>\n",
       "      <td>...</td>\n",
       "    </tr>\n",
       "    <tr>\n",
       "      <th>28002</th>\n",
       "      <td>ID_CDZ24L9</td>\n",
       "      <td>['03-2018', '04-2018', '05-2018', '06-2018', '...</td>\n",
       "      <td>[5235.0, 1270.0, 940.0, 1370.0, 2020.0, 1750.0...</td>\n",
       "      <td>2019-04-01</td>\n",
       "      <td>1640.0</td>\n",
       "      <td>1550.0</td>\n",
       "      <td>2045.0</td>\n",
       "      <td>850.0</td>\n",
       "      <td>1730.0</td>\n",
       "      <td>720.0</td>\n",
       "      <td>14</td>\n",
       "    </tr>\n",
       "    <tr>\n",
       "      <th>28003</th>\n",
       "      <td>ID_0XINELS</td>\n",
       "      <td>['02-2020', '03-2020', '04-2020', '05-2020', '...</td>\n",
       "      <td>[2980.0, 1000.0, 450.0, 1050.0, 850.0, 1250.0,...</td>\n",
       "      <td>2020-09-01</td>\n",
       "      <td>900.0</td>\n",
       "      <td>950.0</td>\n",
       "      <td>650.0</td>\n",
       "      <td>750.0</td>\n",
       "      <td>1200.0</td>\n",
       "      <td>620.0</td>\n",
       "      <td>8</td>\n",
       "    </tr>\n",
       "    <tr>\n",
       "      <th>28004</th>\n",
       "      <td>ID_PAU9JJU</td>\n",
       "      <td>['01-2020', '02-2020', '03-2020', '04-2020', '...</td>\n",
       "      <td>[2580.0, 1020.0, 540.0, 360.0, 200.0, 660.0, 1...</td>\n",
       "      <td>2020-09-01</td>\n",
       "      <td>680.0</td>\n",
       "      <td>460.0</td>\n",
       "      <td>799.0</td>\n",
       "      <td>1070.0</td>\n",
       "      <td>820.0</td>\n",
       "      <td>401.0</td>\n",
       "      <td>9</td>\n",
       "    </tr>\n",
       "    <tr>\n",
       "      <th>28005</th>\n",
       "      <td>ID_K866QHS</td>\n",
       "      <td>['02-2018', '03-2018', '04-2018', '05-2018', '...</td>\n",
       "      <td>[2000.0, 1160.0, 1240.0, 1120.0, 1000.0, 1200....</td>\n",
       "      <td>2018-09-01</td>\n",
       "      <td>1300.0</td>\n",
       "      <td>1055.0</td>\n",
       "      <td>1200.0</td>\n",
       "      <td>1200.0</td>\n",
       "      <td>1080.0</td>\n",
       "      <td>800.0</td>\n",
       "      <td>8</td>\n",
       "    </tr>\n",
       "    <tr>\n",
       "      <th>28006</th>\n",
       "      <td>ID_L485J6M</td>\n",
       "      <td>['09-2017', '10-2017', '11-2017', '12-2017', '...</td>\n",
       "      <td>[2910.0, 1050.0, 1200.0, 1240.0, 1000.0, 650.0...</td>\n",
       "      <td>2018-06-01</td>\n",
       "      <td>970.0</td>\n",
       "      <td>1080.0</td>\n",
       "      <td>960.0</td>\n",
       "      <td>840.0</td>\n",
       "      <td>1000.0</td>\n",
       "      <td>370.0</td>\n",
       "      <td>10</td>\n",
       "    </tr>\n",
       "  </tbody>\n",
       "</table>\n",
       "<p>28007 rows × 11 columns</p>\n",
       "</div>"
      ],
      "text/plain": [
       "               ID                                   TransactionDates  \\\n",
       "0      ID_MR53LEX  ['04-2018', '05-2018', '06-2018', '07-2018', '...   \n",
       "1      ID_3D7NQUH  ['04-2018', '05-2018', '06-2018', '07-2018', '...   \n",
       "2      ID_0IWQNPI  ['02-2020', '03-2020', '04-2020', '05-2020', '...   \n",
       "3      ID_IY8SYB9  ['09-2017', '10-2017', '11-2017', '12-2017', '...   \n",
       "4      ID_9XHL7VZ  ['09-2017', '10-2017', '11-2017', '12-2017', '...   \n",
       "...           ...                                                ...   \n",
       "28002  ID_CDZ24L9  ['03-2018', '04-2018', '05-2018', '06-2018', '...   \n",
       "28003  ID_0XINELS  ['02-2020', '03-2020', '04-2020', '05-2020', '...   \n",
       "28004  ID_PAU9JJU  ['01-2020', '02-2020', '03-2020', '04-2020', '...   \n",
       "28005  ID_K866QHS  ['02-2018', '03-2018', '04-2018', '05-2018', '...   \n",
       "28006  ID_L485J6M  ['09-2017', '10-2017', '11-2017', '12-2017', '...   \n",
       "\n",
       "                                         PaymentsHistory LastPaymentDate  \\\n",
       "0      [3600.0, 750.0, 350.0, 65.0, 95.0, 135.0, 85.0...      2020-11-01   \n",
       "1      [2940.0, 970.0, 380.0, 880.0, 385.0, 440.0, 11...      2020-11-01   \n",
       "2          [2850.0, 1500.0, 1350.0, 610.0, 200.0, 250.0]      2020-07-01   \n",
       "3      [2200.0, 1420.0, 1180.0, 900.0, 1400.0, 780.0,...      2018-06-01   \n",
       "4      [2640.0, 910.0, 480.0, 280.0, 200.0, 180.0, 33...      2019-11-01   \n",
       "...                                                  ...             ...   \n",
       "28002  [5235.0, 1270.0, 940.0, 1370.0, 2020.0, 1750.0...      2019-04-01   \n",
       "28003  [2980.0, 1000.0, 450.0, 1050.0, 850.0, 1250.0,...      2020-09-01   \n",
       "28004  [2580.0, 1020.0, 540.0, 360.0, 200.0, 660.0, 1...      2020-09-01   \n",
       "28005  [2000.0, 1160.0, 1240.0, 1120.0, 1000.0, 1200....      2018-09-01   \n",
       "28006  [2910.0, 1050.0, 1200.0, 1240.0, 1000.0, 650.0...      2018-06-01   \n",
       "\n",
       "           m1      m2      m3      m4      m5      m6  No_of_previous_payments  \n",
       "0       880.0   930.0   495.0   715.0   220.0   385.0                       31  \n",
       "1       660.0   935.0   935.0   825.0   770.0   935.0                       30  \n",
       "2       700.0  1350.0  1550.0  1400.0  1450.0  1200.0                        6  \n",
       "3       580.0   480.0   800.0  1260.0  1650.0   530.0                       10  \n",
       "4        40.0   440.0   460.0   360.0    80.0   330.0                       22  \n",
       "...       ...     ...     ...     ...     ...     ...                      ...  \n",
       "28002  1640.0  1550.0  2045.0   850.0  1730.0   720.0                       14  \n",
       "28003   900.0   950.0   650.0   750.0  1200.0   620.0                        8  \n",
       "28004   680.0   460.0   799.0  1070.0   820.0   401.0                        9  \n",
       "28005  1300.0  1055.0  1200.0  1200.0  1080.0   800.0                        8  \n",
       "28006   970.0  1080.0   960.0   840.0  1000.0   370.0                       10  \n",
       "\n",
       "[28007 rows x 11 columns]"
      ]
     },
     "execution_count": 44,
     "metadata": {},
     "output_type": "execute_result"
    }
   ],
   "source": [
    "train"
   ]
  },
  {
   "cell_type": "code",
   "execution_count": 43,
   "id": "bd84e524-02ae-40b7-8d93-6d0d342fff03",
   "metadata": {},
   "outputs": [],
   "source": [
    "assert train_df.shape[0] == train.shape[0]\n",
    "assert test_df.shape[0] == test.shape[0]"
   ]
  },
  {
   "cell_type": "markdown",
   "id": "43d2ae3e-5581-4ee5-ac81-31088454b572",
   "metadata": {},
   "source": [
    "mode = train_df['Age'].mode()[0]\n",
    "train_df['Age'].fillna(mode, inplace=True)\n",
    "test_df['Age'].fillna(mode, inplace=True)"
   ]
  },
  {
   "cell_type": "code",
   "execution_count": 45,
   "id": "7af45c6e-6114-4734-8ebd-c94df43ca5ed",
   "metadata": {},
   "outputs": [],
   "source": [
    "from sklearn.preprocessing import StandardScaler\n",
    "x_scaler = StandardScaler()\n",
    "X = x_scaler.fit_transform(train_df)\n",
    "X_t = x_scaler.transform(test_df)\n",
    "\n",
    "y = train.iloc[:,-7:-1].values"
   ]
  },
  {
   "cell_type": "code",
   "execution_count": 63,
   "id": "76cda78d-ce4a-42f3-a319-129732f85236",
   "metadata": {},
   "outputs": [
    {
     "data": {
      "text/plain": [
       "array([[ 880.,  930.,  495.,  715.,  220.,  385.],\n",
       "       [ 660.,  935.,  935.,  825.,  770.,  935.],\n",
       "       [ 700., 1350., 1550., 1400., 1450., 1200.],\n",
       "       ...,\n",
       "       [ 680.,  460.,  799., 1070.,  820.,  401.],\n",
       "       [1300., 1055., 1200., 1200., 1080.,  800.],\n",
       "       [ 970., 1080.,  960.,  840., 1000.,  370.]])"
      ]
     },
     "execution_count": 63,
     "metadata": {},
     "output_type": "execute_result"
    }
   ],
   "source": [
    "y"
   ]
  },
  {
   "cell_type": "markdown",
   "id": "155f2fa8-15e7-4c86-b021-270b2932ec81",
   "metadata": {},
   "source": [
    "df_train, max_len = pad_history(df=train, max_len=41)"
   ]
  },
  {
   "cell_type": "markdown",
   "id": "6c8d25df-bb9a-4afc-ab7a-09d08b173ccc",
   "metadata": {
    "tags": []
   },
   "source": [
    "xtrain = df_train.PaymentsHistory.values\n",
    "ytrain = df_train[train.columns[-6:]].values\n",
    "\n",
    "\n",
    "xs = x_scaler.fit_transform(np.array(xtrain.tolist()).reshape((xtrain.shape[0], max_len)))\n",
    "\n",
    "ys = np.array(ytrain.tolist()).reshape((ytrain.shape[0], 6))\n",
    "\n",
    "#train_ds = tf.data.Dataset.from_tensor_slices((xs, ys))"
   ]
  },
  {
   "cell_type": "markdown",
   "id": "5c6b7153-9d57-49f1-b3c8-937c41cbe880",
   "metadata": {},
   "source": [
    "# prepare test set\n",
    "df_test, max_len = pad_history(df=test, max_len=41)\n",
    "\n",
    "xtest = df_test.PaymentsHistory.values\n",
    "xtst = x_scaler.transform(np.array(xtest.tolist()).reshape((xtest.shape[0], max_len)))\n"
   ]
  },
  {
   "cell_type": "markdown",
   "id": "bbb1c6de-c84e-4eec-ba95-e28f50e4ed15",
   "metadata": {},
   "source": [
    "xs_df = np.hstack((xs,train['No_of_previous_payments'].values.reshape(-1,1)))\n",
    "xtst_df =  np.hstack((xtst,test['No_of_previous_payments'].values.reshape(-1,1)))"
   ]
  },
  {
   "cell_type": "code",
   "execution_count": 202,
   "id": "9d86622f",
   "metadata": {},
   "outputs": [
    {
     "data": {
      "text/plain": [
       "((28007, 41), (28007, 6))"
      ]
     },
     "execution_count": 202,
     "metadata": {},
     "output_type": "execute_result"
    }
   ],
   "source": [
    "xs.shape,ys.shape, "
   ]
  },
  {
   "cell_type": "code",
   "execution_count": 249,
   "id": "adc1a588-fc12-4556-a770-9678b59c9b7f",
   "metadata": {},
   "outputs": [
    {
     "data": {
      "text/plain": [
       "Text(0.5, 0, 'm2')"
      ]
     },
     "execution_count": 249,
     "metadata": {},
     "output_type": "execute_result"
    },
    {
     "data": {
      "image/png": "[encoded data removed]",
      "text/plain": [
       "<Figure size 2880x720 with 1 Axes>"
      ]
     },
     "metadata": {
      "needs_background": "light"
     },
     "output_type": "display_data"
    }
   ],
   "source": [
    "plt.figure(figsize=(40,10))\n",
    "sns.lineplot(xs[:,1],ys[:,1])\n",
    "plt.xlabel('m2')"
   ]
  },
  {
   "cell_type": "code",
   "execution_count": null,
   "id": "e4375a1f-e5cb-4971-9f2e-02adeeff985e",
   "metadata": {},
   "outputs": [],
   "source": []
  },
  {
   "cell_type": "markdown",
   "id": "f1c21565",
   "metadata": {},
   "source": [
    "## Modelling"
   ]
  },
  {
   "cell_type": "code",
   "execution_count": 64,
   "id": "737107fd-1527-4b9a-9ece-9d4f58e38b38",
   "metadata": {},
   "outputs": [
    {
     "data": {
      "text/plain": [
       "((28007, 65), (9336, 65))"
      ]
     },
     "execution_count": 64,
     "metadata": {},
     "output_type": "execute_result"
    }
   ],
   "source": [
    "X.shape, X_t.shape"
   ]
  },
  {
   "cell_type": "code",
   "execution_count": 46,
   "id": "c62ee343",
   "metadata": {
    "tags": []
   },
   "outputs": [],
   "source": [
    "def build_model(out_shape=6):\n",
    "    \n",
    "    base_shape = xtrain_loan.shape[1]\n",
    "    \n",
    "    status_inp = keras.Input(shape=base_shape, name=\"status_inputs\")\n",
    "    x1 = keras.layers.Dense(base_shape, activation=\"sigmoid\", name=\"x1\")(status_inp)\n",
    "    x11 = keras.layers.Dense(base_shape//2, activation=\"sigmoid\", name=\"x11\")(x1)\n",
    "    x111 = Dropout(0.2)(x11)\n",
    "    out1 = keras.layers.Dense(1, activation=\"sigmoid\", name=\"out1\")(x111)\n",
    "    \n",
    "    inp_shape = X.shape[1]\n",
    "    payments_inp = keras.Input(shape=inp_shape, name=\"payments_inputs\")\n",
    "    x2 = keras.layers.Dense(66, activation=\"relu\", name=\"x2\")(payments_inp)\n",
    "   # x22 = keras.layers.Dense(20, activation=\"relu\", name=\"x22\")(x2)\n",
    "    x2_out = keras.layers.Dense(33, activation=\"relu\", name=\"payment_out\")(x2)\n",
    "    \n",
    "    concat = keras.layers.Concatenate(name=\"concat_layer\")([out1, x2_out])\n",
    "    out2 = keras.layers.Dense(out_shape, name=\"out2\")(concat)\n",
    "    \n",
    "    # Model\n",
    "    model = keras.Model(inputs=[payments_inp, status_inp], outputs=[out2,out1])\n",
    "    \n",
    "    opt = keras.optimizers.Adam(learning_rate=0.01)\n",
    "    wgt = {\"out1\":.15, \"out2\":.85}\n",
    "    \n",
    "    model.compile(\n",
    "        loss=\"mean_squared_error\",\n",
    "        optimizer=opt,\n",
    "        loss_weights=wgt\n",
    "    )\n",
    "\n",
    "    #model.summary()\n",
    "    \n",
    "    return model\n",
    "\n",
    "\n",
    "def build_payment_model(inp_shape=61):\n",
    "    # Model\n",
    "    \n",
    "    payments_inp = inp_shape\n",
    "    model = Sequential()\n",
    "    model.add(Dense(inp_shape, input_dim=payments_inp, activation='relu'))\n",
    "    model.add(Dense(20, activation='relu'))\n",
    "    model.add(Dense(6))\n",
    "    \n",
    "    \n",
    "    \n",
    "    opt = keras.optimizers.Adam(learning_rate=0.01)\n",
    "    \n",
    "    model.compile(\n",
    "        loss=\"mean_squared_error\",\n",
    "        optimizer=opt,\n",
    "    )\n",
    "\n",
    "   # model.summary()\n",
    "    \n",
    "    return model\n",
    "\n",
    "\n",
    "def build_status_model():\n",
    "    \n",
    "    # Model\n",
    "    status_inp = xtrain_loan.shape[1]\n",
    "    model = Sequential()\n",
    "    model.add(Dense(status_inp, input_dim=status_inp, activation='relu'))\n",
    "    model.add(Dense(100, activation='relu'))\n",
    "    model.add(Dropout(0.2))\n",
    "    model.add(Dense(status_inp//2, activation='relu'))\n",
    "    model.add(Dense(1, activation='sigmoid'))\n",
    "    #x = keras.layers.Dense(20, activation=\"sigmoid\", name=\"x2\")(status_inp)\n",
    "    #x_out = keras.layers.Dense(30, activation=\"sigmoid\", name=\"statut_out\")(x)\n",
    "    \n",
    "    #out = keras.layers.Dense(6, name=\"out\")(x)\n",
    "    \n",
    "    \n",
    "    #model = keras.Model(inputs=[status_inp], outputs=[out])\n",
    "    \n",
    "    opt = keras.optimizers.Adam(learning_rate=0.01)\n",
    "    \n",
    "    model.compile(\n",
    "        loss=\"binary_crossentropy\",\n",
    "        optimizer=opt,\n",
    "        metrics =['accuracy']\n",
    "    )\n",
    "\n",
    "    #model.summary()\n",
    "    \n",
    "    return model"
   ]
  },
  {
   "cell_type": "code",
   "execution_count": 48,
   "id": "25910142-1b3e-421d-80b3-5a9e20067505",
   "metadata": {},
   "outputs": [],
   "source": [
    "X_train, X_test, y_train, y_test = train_test_split(X,y, test_size=0.3, random_state=42)"
   ]
  },
  {
   "cell_type": "code",
   "execution_count": 56,
   "id": "a2f8ce5c-d20d-457e-8af1-5dce3a60541f",
   "metadata": {},
   "outputs": [
    {
     "name": "stdout",
     "output_type": "stream",
     "text": [
      "Epoch 1/10\n",
      "1961/1961 [==============================] - 10s 5ms/step - loss: 645794.8750\n",
      "Epoch 2/10\n",
      "1961/1961 [==============================] - 11s 6ms/step - loss: 617270.3125 0s - - ETA: 0s - loss: 595\n",
      "Epoch 3/10\n",
      "1961/1961 [==============================] - 10s 5ms/step - loss: 614363.0000\n",
      "Epoch 4/10\n",
      "1961/1961 [==============================] - 8s 4ms/step - loss: 605246.6875\n",
      "Epoch 5/10\n",
      "1961/1961 [==============================] - 7s 4ms/step - loss: 600134.5625\n",
      "Epoch 6/10\n",
      "1961/1961 [==============================] - 8s 4ms/step - loss: 592676.6875\n",
      "Epoch 7/10\n",
      "1961/1961 [==============================] - 8s 4ms/step - loss: 590120.0000\n",
      "Epoch 8/10\n",
      "1961/1961 [==============================] - 7s 4ms/step - loss: 583925.2500\n",
      "Epoch 9/10\n",
      "1961/1961 [==============================] - 8s 4ms/step - loss: 580322.1250\n",
      "Epoch 10/10\n",
      "1961/1961 [==============================] - 7s 4ms/step - loss: 576074.3750\n"
     ]
    },
    {
     "data": {
      "text/plain": [
       "<tensorflow.python.keras.callbacks.History at 0x1cc53e61280>"
      ]
     },
     "execution_count": 56,
     "metadata": {},
     "output_type": "execute_result"
    }
   ],
   "source": [
    "model = KerasRegressor(build_fn= build_payment_model, batch_size=10, epochs=10,)\n",
    "model.fit(X_train,y_train)"
   ]
  },
  {
   "cell_type": "code",
   "execution_count": 67,
   "id": "0a674ebd",
   "metadata": {
    "tags": []
   },
   "outputs": [],
   "source": [
    "from scipy.stats import mode\n",
    "def class_cv(model,X,y,test,random_state = 42,fold = 2):\n",
    "    tot_val_pred = []\n",
    "    tot_test_pred = np.zeros((fold,test.shape[0]))\n",
    "    y_copy = y.copy()\n",
    "    kf = KFold(n_splits=fold, random_state=random_state, shuffle=True)\n",
    "    i = 0\n",
    "    for train_index, test_index in kf.split(X):\n",
    "        X_train, X_test = X.iloc[train_index], X.iloc[test_index]\n",
    "        y_train, y_test = y.iloc[train_index], y.iloc[test_index]\n",
    "       \n",
    "        model.fit(X_train,y_train)\n",
    "        y_pred =  model.predict(X_test)\n",
    "        y_copy.iloc[test_index] = y_pred\n",
    "        print(accuracy_score(y_pred,y_test))\n",
    "        tot_test_pred[i] = model.predict(test)\n",
    "        i += 1\n",
    "    print('Val Accuracy', accuracy_score(y_copy,y))\n",
    "    tot_test_pred = mode(tot_test_pred,axis = 0)[0][0]\n",
    "    return y_copy,tot_test_pred\n",
    "        "
   ]
  },
  {
   "cell_type": "code",
   "execution_count": 54,
   "id": "6ec89a1f",
   "metadata": {
    "tags": []
   },
   "outputs": [
    {
     "name": "stdout",
     "output_type": "stream",
     "text": [
      "0.7315244555515887\n",
      "0.7297393787932881\n",
      "0.7525883612995359\n",
      "0.7454480542663334\n",
      "0.741163870046412\n",
      "0.7350946090681899\n",
      "0.7475901463762942\n",
      "0.7328571428571429\n",
      "0.7171428571428572\n",
      "0.7325\n",
      "Val Accuracy 0.7365658585353662\n"
     ]
    }
   ],
   "source": [
    "lgbm  = lightgbm.LGBMClassifier()\n",
    "lgb_predictions = class_cv(lgbm,xtrain_loan,status,xtest_loan,fold=10)"
   ]
  },
  {
   "cell_type": "code",
   "execution_count": 50,
   "id": "9e085ec9",
   "metadata": {},
   "outputs": [
    {
     "data": {
      "text/plain": [
       "28007"
      ]
     },
     "execution_count": 50,
     "metadata": {},
     "output_type": "execute_result"
    }
   ],
   "source": [
    "len(log_predictions[0])"
   ]
  },
  {
   "cell_type": "code",
   "execution_count": 84,
   "id": "e23fdce3",
   "metadata": {
    "tags": []
   },
   "outputs": [],
   "source": [
    "from scipy.stats import mode\n",
    "def reg_cv(base_model,X,y,test,random_state = 42,fold = 2, params=None, mult=None):\n",
    "    tot_val_pred = []\n",
    "    tot_test_pred = np.zeros((fold,test.shape[0],6))\n",
    "    y_copy = y.copy()\n",
    "    kf = KFold(n_splits=fold, random_state=random_state, shuffle=True)\n",
    "    i = 0\n",
    "    for train_index, test_index in tqdm(kf.split(X), desc='Kfold validation'):\n",
    "        x_train, x_test = X.iloc[train_index], X.iloc[test_index]\n",
    "        y_train, y_test = y.iloc[train_index], y.iloc[test_index]\n",
    "        if mult != None:\n",
    "            model = mult(base_model, params=params)\n",
    "        else:\n",
    "            model = base_model\n",
    "        model.fit(x_train,y_train)\n",
    "        y_pred =  model.predict(x_test)\n",
    "        y_copy.iloc[test_index] = y_pred\n",
    "        print(np.sqrt(mean_squared_error(y_pred,y_test)))\n",
    "        tot_test_pred[i] = model.predict(test)\n",
    "        i += 1\n",
    "    print('RMSE:>', np.sqrt(mean_squared_error(y_copy,y)))\n",
    "    tot_test_pred = mode(tot_test_pred,axis = 0)[0][0]\n",
    "    return y_copy,tot_test_pred\n",
    "        "
   ]
  },
  {
   "cell_type": "code",
   "execution_count": 28,
   "id": "4b8292a3-80dd-48b1-8ddc-7c521153a652",
   "metadata": {
    "jupyter": {
     "source_hidden": true
    },
    "tags": []
   },
   "outputs": [],
   "source": [
    "from sklearn.base import RegressorMixin\n",
    "class MultiEstimator_indepen(RegressorMixin):\n",
    "    \n",
    "    def __init__(self, model_object, params=None):\n",
    "        \"\"\"\n",
    "        parametes to pass on to model_object instance\n",
    "        estimator object to be instanciated\n",
    "        \"\"\"\n",
    "        self.n_estim, self.lr = params\n",
    "        \n",
    "        self.model_object = model_object\n",
    "        self.fitted_models = []\n",
    "    \n",
    "    def __repr__(self):\n",
    "        return 'MultiEstimator(model_object = {}, n_fitted_models={})'.format(self.model_object, len(self.fitted_models))\n",
    "    def fit(self,X,y):\n",
    "        assert type(X) == pd.DataFrame\n",
    "        assert type(y) == pd.DataFrame\n",
    "        df = X.copy()\n",
    "        self.n_train_cols = len(X.columns)\n",
    "        self.col_names = y.columns\n",
    "        \"\"\"\n",
    "        X : pd.DataFrame \n",
    "        y : pd.DataFrame or pd.Series\n",
    "        \"\"\"\n",
    "        # getting number of coluns to predict\n",
    "        n_cols = y.shape[1]\n",
    "        for n_col in range(n_cols):\n",
    "            # creating n instance of the model_object\n",
    "            if self.n_estim != None:\n",
    "                model = self.model_object(n_estimators=self.n_estim,learning_rate=self.lr )\n",
    "            else:\n",
    "                model = self.model_object()\n",
    "\n",
    "            \n",
    "            # making a single column as target at a time\n",
    "            target = y.iloc[:,n_col]\n",
    "\n",
    "            #saving each fitted instances of the model\n",
    "            self.fitted_models.append(model.fit(df,target))\n",
    "\n",
    "        return self\n",
    "        \n",
    "    def predict(self,X):\n",
    "        \"\"\"\n",
    "        X : pd.DataFrame \n",
    "        \"\"\"\n",
    "\n",
    "        assert type(X) == pd.DataFrame\n",
    "        assert self.n_train_cols == len(X.columns)\n",
    "\n",
    "        df = X.copy()\n",
    "        n_cols = len(self.fitted_models)\n",
    "        preds_ = np.zeros((X.shape[0],n_cols))\n",
    "\n",
    "        for n_col in range(n_cols):\n",
    "            # retrieving the fitted models\n",
    "            estimator = self.fitted_models[n_col]\n",
    "\n",
    "            preds_[:,n_col] = estimator.predict(df)\n",
    "            \n",
    "        return preds_\n"
   ]
  },
  {
   "cell_type": "code",
   "execution_count": 77,
   "id": "4885d78b",
   "metadata": {
    "jupyter": {
     "source_hidden": true
    },
    "tags": []
   },
   "outputs": [],
   "source": [
    "from sklearn.base import RegressorMixin\n",
    "class MultiEstimator(RegressorMixin):\n",
    "    \n",
    "    def __init__(self, model_object, params=None):\n",
    "        \"\"\"\n",
    "        parametes to pass on to model_object instance\n",
    "        estimator object to be instanciated\n",
    "        \"\"\"\n",
    "        self.n_estim, self.lr = params\n",
    "        \n",
    "        self.model_object = model_object\n",
    "        self.fitted_models = []\n",
    "    \n",
    "    def __repr__(self):\n",
    "        return 'MultiEstimator(model_object = {}, n_fitted_models={})'.format(self.model_object, len(self.fitted_models))\n",
    "    def fit(self,X,y):\n",
    "        assert type(X) == pd.DataFrame\n",
    "        assert type(y) == pd.DataFrame\n",
    "        df = X.copy()\n",
    "        self.n_train_cols = len(X.columns)\n",
    "        self.col_names = y.columns\n",
    "        \"\"\"\n",
    "        X : pd.DataFrame \n",
    "        y : pd.DataFrame or pd.Series\n",
    "        \"\"\"\n",
    "        # getting number of coluns to predict\n",
    "        n_cols = y.shape[1]\n",
    "        for n_col in range(n_cols):\n",
    "            # creating n instance of the model_object\n",
    "            if self.n_estim != None:\n",
    "                model = self.model_object(n_estimators=self.n_estim,learning_rate=self.lr )\n",
    "            else:\n",
    "                model = self.model_object()\n",
    "\n",
    "            if n_col == 0:\n",
    "                # making a single column as target at a time\n",
    "                target = y.iloc[:,n_col]\n",
    "\n",
    "                #saving each fitted instances of the model\n",
    "                self.fitted_models.append(model.fit(df,target))\n",
    "\n",
    "            elif n_col > 0:\n",
    "                # adding previous cols to new learning set\n",
    "                df1 = pd.concat([df,y.iloc[:,:n_col]], axis=1)\n",
    "                target = y.iloc[:,n_col]\n",
    "\n",
    "                self.fitted_models.append(model.fit(df1,target))\n",
    "\n",
    "        return self\n",
    "        \n",
    "    def predict(self,X):\n",
    "        \"\"\"\n",
    "        X : pd.DataFrame \n",
    "        \"\"\"\n",
    "\n",
    "        assert type(X) == pd.DataFrame\n",
    "        assert self.n_train_cols == len(X.columns)\n",
    "\n",
    "        df = X.copy()\n",
    "        n_cols = len(self.fitted_models)\n",
    "        preds_ = np.zeros((X.shape[0],n_cols))\n",
    "\n",
    "        for n_col in range(n_cols):\n",
    "            # retrieving the fitted models\n",
    "            estimator = self.fitted_models[n_col]\n",
    "\n",
    "            if n_col == 0:\n",
    "                preds_[:,n_col] = estimator.predict(df)\n",
    "\n",
    "            elif n_col > 0:\n",
    "                temp_df = pd.DataFrame(preds_[:,:n_col], columns=self.col_names[:n_col])\n",
    "                \n",
    "                temp_df.index = df.index\n",
    "                \n",
    "                df1 = pd.concat([df,temp_df], axis=1)\n",
    "                preds_[:,n_col] = estimator.predict(df1)\n",
    "\n",
    "        return preds_\n"
   ]
  },
  {
   "cell_type": "code",
   "execution_count": 235,
   "id": "892127ca",
   "metadata": {},
   "outputs": [],
   "source": [
    "xs_df = pd.DataFrame(xs_df)\n",
    "ys_df = pd.DataFrame(ys, columns=train.columns[-6:])\n",
    "\n",
    "xtst_df = pd.DataFrame(xtst_df)"
   ]
  },
  {
   "cell_type": "code",
   "execution_count": 162,
   "id": "e8c410fc",
   "metadata": {},
   "outputs": [
    {
     "data": {
      "text/plain": [
       "((28007, 70), (9336, 70), (28007, 6))"
      ]
     },
     "execution_count": 162,
     "metadata": {},
     "output_type": "execute_result"
    }
   ],
   "source": [
    "df_train.shape, df_test.shape, ys_df.shape"
   ]
  },
  {
   "cell_type": "code",
   "execution_count": 113,
   "id": "4abcaa1a-1259-4b51-8539-44ab4427f237",
   "metadata": {},
   "outputs": [
    {
     "name": "stdout",
     "output_type": "stream",
     "text": [
      "<class 'pandas.core.frame.DataFrame'>\n",
      "RangeIndex: 28007 entries, 0 to 28006\n",
      "Data columns (total 6 columns):\n",
      " #   Column  Non-Null Count  Dtype  \n",
      "---  ------  --------------  -----  \n",
      " 0   m1      28007 non-null  float64\n",
      " 1   m2      28007 non-null  float64\n",
      " 2   m3      28007 non-null  float64\n",
      " 3   m4      28007 non-null  float64\n",
      " 4   m5      28007 non-null  float64\n",
      " 5   m6      28007 non-null  float64\n",
      "dtypes: float64(6)\n",
      "memory usage: 1.3 MB\n"
     ]
    }
   ],
   "source": [
    "ys_df.info()"
   ]
  },
  {
   "cell_type": "code",
   "execution_count": 114,
   "id": "4bbf6848",
   "metadata": {},
   "outputs": [],
   "source": [
    "X_train, X_test, Y_train, Y_test = train_test_split(xs_df,ys_df, test_size=0.2, random_state=42)"
   ]
  },
  {
   "cell_type": "code",
   "execution_count": 227,
   "id": "efafa949-dce2-4992-8914-46714f493b45",
   "metadata": {},
   "outputs": [
    {
     "name": "stderr",
     "output_type": "stream",
     "text": [
      "Kfold validation: 0it [00:00, ?it/s]"
     ]
    },
    {
     "name": "stdout",
     "output_type": "stream",
     "text": [
      "578.3281560663162\n"
     ]
    },
    {
     "name": "stderr",
     "output_type": "stream",
     "text": [
      "Kfold validation: 1it [00:59, 59.23s/it]"
     ]
    },
    {
     "name": "stdout",
     "output_type": "stream",
     "text": [
      "1130.8051326665723\n"
     ]
    },
    {
     "name": "stderr",
     "output_type": "stream",
     "text": [
      "Kfold validation: 2it [02:28, 77.14s/it]"
     ]
    },
    {
     "name": "stdout",
     "output_type": "stream",
     "text": [
      "662.3067562154241\n"
     ]
    },
    {
     "name": "stderr",
     "output_type": "stream",
     "text": [
      "Kfold validation: 3it [04:20, 92.85s/it]"
     ]
    },
    {
     "name": "stdout",
     "output_type": "stream",
     "text": [
      "688.0475477987465\n"
     ]
    },
    {
     "name": "stderr",
     "output_type": "stream",
     "text": [
      "Kfold validation: 4it [06:09, 99.09s/it]"
     ]
    },
    {
     "name": "stdout",
     "output_type": "stream",
     "text": [
      "767.0980933454637\n"
     ]
    },
    {
     "name": "stderr",
     "output_type": "stream",
     "text": [
      "Kfold validation: 5it [07:49, 99.41s/it]"
     ]
    },
    {
     "name": "stdout",
     "output_type": "stream",
     "text": [
      "851.0155449301175\n"
     ]
    },
    {
     "name": "stderr",
     "output_type": "stream",
     "text": [
      "Kfold validation: 6it [09:34, 101.43s/it]"
     ]
    },
    {
     "name": "stdout",
     "output_type": "stream",
     "text": [
      "687.420994821139\n"
     ]
    },
    {
     "name": "stderr",
     "output_type": "stream",
     "text": [
      "Kfold validation: 7it [11:28, 105.52s/it]"
     ]
    },
    {
     "name": "stdout",
     "output_type": "stream",
     "text": [
      "611.3584647877308\n"
     ]
    },
    {
     "name": "stderr",
     "output_type": "stream",
     "text": [
      "Kfold validation: 8it [13:23, 108.49s/it]"
     ]
    },
    {
     "name": "stdout",
     "output_type": "stream",
     "text": [
      "927.7533593219497\n"
     ]
    },
    {
     "name": "stderr",
     "output_type": "stream",
     "text": [
      "Kfold validation: 9it [15:05, 106.51s/it]"
     ]
    },
    {
     "name": "stdout",
     "output_type": "stream",
     "text": [
      "529.6894583594684\n"
     ]
    },
    {
     "name": "stderr",
     "output_type": "stream",
     "text": [
      "Kfold validation: 10it [16:54, 101.48s/it]\n"
     ]
    },
    {
     "name": "stdout",
     "output_type": "stream",
     "text": [
      "RMSE:> 763.2560106929722\n"
     ]
    }
   ],
   "source": [
    "keras_model = KerasRegressor(build_fn=build_payment_model, batch_size=10, epochs=10, verbose=0)\n",
    "preds = reg_cv(keras_model, xs_df,ys_df,xtst_df, fold=10,)"
   ]
  },
  {
   "cell_type": "code",
   "execution_count": 49,
   "id": "e09e422f-4d5d-496e-a9f3-557b8fa88a49",
   "metadata": {},
   "outputs": [],
   "source": [
    "X_df = pd.DataFrame(X, columns=train_df.columns)\n",
    "y_df = pd.DataFrame(y)\n",
    "X_t_df = pd.DataFrame(X_t, columns=test_df.columns)"
   ]
  },
  {
   "cell_type": "code",
   "execution_count": 91,
   "id": "58d9233b",
   "metadata": {},
   "outputs": [
    {
     "name": "stderr",
     "output_type": "stream",
     "text": [
      "Kfold validation: 0it [00:00, ?it/s]"
     ]
    },
    {
     "name": "stdout",
     "output_type": "stream",
     "text": [
      "564.9537187330957\n"
     ]
    },
    {
     "name": "stderr",
     "output_type": "stream",
     "text": [
      "Kfold validation: 1it [00:15, 15.75s/it]"
     ]
    },
    {
     "name": "stdout",
     "output_type": "stream",
     "text": [
      "1136.6025627048023\n"
     ]
    },
    {
     "name": "stderr",
     "output_type": "stream",
     "text": [
      "Kfold validation: 2it [00:31, 16.00s/it]"
     ]
    },
    {
     "name": "stdout",
     "output_type": "stream",
     "text": [
      "693.4335596571735\n"
     ]
    },
    {
     "name": "stderr",
     "output_type": "stream",
     "text": [
      "Kfold validation: 3it [00:48, 16.24s/it]"
     ]
    },
    {
     "name": "stdout",
     "output_type": "stream",
     "text": [
      "750.0165218633\n"
     ]
    },
    {
     "name": "stderr",
     "output_type": "stream",
     "text": [
      "Kfold validation: 4it [01:04, 16.29s/it]"
     ]
    },
    {
     "name": "stdout",
     "output_type": "stream",
     "text": [
      "778.8299810130569\n"
     ]
    },
    {
     "name": "stderr",
     "output_type": "stream",
     "text": [
      "Kfold validation: 5it [01:20, 16.21s/it]"
     ]
    },
    {
     "name": "stdout",
     "output_type": "stream",
     "text": [
      "882.221915782142\n"
     ]
    },
    {
     "name": "stderr",
     "output_type": "stream",
     "text": [
      "Kfold validation: 6it [01:36, 16.13s/it]"
     ]
    },
    {
     "name": "stdout",
     "output_type": "stream",
     "text": [
      "720.7257407495401\n"
     ]
    },
    {
     "name": "stderr",
     "output_type": "stream",
     "text": [
      "Kfold validation: 7it [01:52, 15.86s/it]"
     ]
    },
    {
     "name": "stdout",
     "output_type": "stream",
     "text": [
      "684.5397475067334\n"
     ]
    },
    {
     "name": "stderr",
     "output_type": "stream",
     "text": [
      "Kfold validation: 8it [02:06, 15.35s/it]"
     ]
    },
    {
     "name": "stdout",
     "output_type": "stream",
     "text": [
      "959.9741310757821\n"
     ]
    },
    {
     "name": "stderr",
     "output_type": "stream",
     "text": [
      "Kfold validation: 9it [02:21, 15.17s/it]"
     ]
    },
    {
     "name": "stdout",
     "output_type": "stream",
     "text": [
      "577.8672044121378\n"
     ]
    },
    {
     "name": "stderr",
     "output_type": "stream",
     "text": [
      "Kfold validation: 10it [02:36, 15.69s/it]\n"
     ]
    },
    {
     "name": "stdout",
     "output_type": "stream",
     "text": [
      "RMSE:> 792.646398115623\n"
     ]
    }
   ],
   "source": [
    "base_estim = lightgbm.LGBMRegressor\n",
    "preds = reg_cv(base_estim, X_df,y_df,X_t_df,mult = MultiEstimator, fold=10, params=(100, 0.1))"
   ]
  },
  {
   "cell_type": "code",
   "execution_count": 51,
   "id": "6b0e13de",
   "metadata": {},
   "outputs": [],
   "source": [
    "def rmse(y_true,y_preds):\n",
    "    return np.sqrt(mean_squared_error(y_true,y_preds))"
   ]
  },
  {
   "cell_type": "code",
   "execution_count": 52,
   "id": "7110adbf",
   "metadata": {
    "tags": []
   },
   "outputs": [],
   "source": [
    "def binary(x):\n",
    "    if x >= 0.5:\n",
    "        return 1\n",
    "    else:\n",
    "        return 0"
   ]
  },
  {
   "cell_type": "code",
   "execution_count": 53,
   "id": "327b5d11-3801-464f-8da6-95707e8a6771",
   "metadata": {},
   "outputs": [],
   "source": [
    "model = build_model()"
   ]
  },
  {
   "cell_type": "code",
   "execution_count": 25,
   "id": "058c6ebf",
   "metadata": {
    "tags": []
   },
   "outputs": [
    {
     "data": {
      "image/png": "[encoded data removed]",
      "text/plain": [
       "<IPython.core.display.Image object>"
      ]
     },
     "execution_count": 25,
     "metadata": {},
     "output_type": "execute_result"
    }
   ],
   "source": [
    "tf.keras.utils.plot_model(\n",
    "        model,\n",
    "        to_file=\"model.png\", \n",
    "        show_shapes=True\n",
    "    )"
   ]
  },
  {
   "cell_type": "markdown",
   "id": "7ae80b6d",
   "metadata": {},
   "source": [
    "## Learning phase"
   ]
  },
  {
   "cell_type": "markdown",
   "id": "f3519667",
   "metadata": {},
   "source": [
    "## Eval/Inference time"
   ]
  },
  {
   "cell_type": "code",
   "execution_count": 54,
   "id": "077d0904",
   "metadata": {},
   "outputs": [
    {
     "data": {
      "text/plain": [
       "((28007, 61), (28007, 29), (28007, 6), (28007,))"
      ]
     },
     "execution_count": 54,
     "metadata": {},
     "output_type": "execute_result"
    }
   ],
   "source": [
    "X.shape,xtrain_loan.shape, y.shape, status.shape"
   ]
  },
  {
   "cell_type": "markdown",
   "id": "446b52ac",
   "metadata": {},
   "source": [
    "Using KFold"
   ]
  },
  {
   "cell_type": "code",
   "execution_count": 55,
   "id": "56da6c57",
   "metadata": {
    "tags": []
   },
   "outputs": [],
   "source": [
    "\n",
    "def cross_val_predict(test= [X_t,xtest_loan], b_size=10, epochs=20, splits= 5, output_dim=6):\n",
    "    #data = pd.concat([xs,xtrain_loan])\n",
    "    #target = pd.concat([ys,status])\n",
    "    kf = KFold(n_splits=splits, shuffle=True, random_state=42)\n",
    "    n = output_dim\n",
    "    train_scores = []\n",
    "    val_scores = []\n",
    "    preds = np.zeros((splits,X_t.shape[0],n))\n",
    "                     \n",
    "    for idx, indexes in enumerate(tqdm(kf.split(X,y))):\n",
    "        \n",
    "        tr_idx, vl_idx  = indexes   \n",
    "        # get all train sets\n",
    "        xs_train, ys_train = X[tr_idx], y[tr_idx]\n",
    "        x_train_loan, status_train = xtrain_loan.loc[tr_idx], status.values[tr_idx]\n",
    "        \n",
    "        #get all validation set\n",
    "        xs_test, ys_test = X[vl_idx], y[vl_idx]\n",
    "        x_test_loan, status_test = xtrain_loan.loc[vl_idx], status.values[vl_idx]\n",
    "        \n",
    "        # Build the Model\n",
    "        estimator = build_model(out_shape=n)\n",
    "        estimator.fit([xs_train,x_train_loan],[ys_train,status_train], batch_size=b_size, epochs=epochs, verbose=0)\n",
    "        \n",
    "        # predict on train set\n",
    "        tr_preds = estimator.predict([xs_train,x_train_loan])\n",
    "        out1_tr = tr_preds[1] # first output\n",
    "        out1_tr = [binary(num) for num in out1_tr]\n",
    "        out2_tr = tr_preds[0] # second putput\n",
    "        \n",
    "        # predicting on val set\n",
    "        vl_preds = estimator.predict([xs_test,x_test_loan])\n",
    "        out1_vl = vl_preds[1] # first output\n",
    "        out1_vl = [binary(num) for num in out1_vl]\n",
    "        out2_vl = vl_preds[0] # second output\n",
    "        \n",
    "        # predict on test: we only return the second output predictions as that is what is relevant to us\n",
    "        preds[idx] = estimator.predict([X_t,xtest_loan])[0]\n",
    "        \n",
    "        # get scores : train\n",
    "        out1_tr_score = accuracy_score(status_train,out1_tr)\n",
    "        out2_tr_score = mean_squared_error(ys_train,out2_tr)\n",
    "        \n",
    "        # get scores : val\n",
    "        out1_vl_score = accuracy_score(status_test,out1_vl)\n",
    "        out2_vl_score = mean_squared_error(ys_test,out2_vl)\n",
    "        \n",
    "        train_scores.append((np.sqrt(out2_tr_score),out1_tr_score))\n",
    "        val_scores.append((np.sqrt(out2_vl_score),out1_vl_score))\n",
    "        \n",
    "        print('(Out1)>>>ACC:> Train: %.3f    Val: %.3f' % (out1_tr_score*100,out1_vl_score*100))\n",
    "        print('(Out2)>>>MSE:> Train: %.3f    Val: %.3f' % (np.sqrt(out2_tr_score),np.sqrt(out2_vl_score)))\n",
    "        \n",
    "    train_scores = np.array(train_scores)\n",
    "    val_scores = np.array(val_scores)\n",
    "    output1 = '(Out1)>>>ACC:> AvgTrain: %.3f +/- %.3f    AvgVal: %.3f +/- %.3f'\n",
    "    output2 = '(Out2)>>>MSE:> AvgTrain: %.3f +/- %.3f    AvgVal: %.3f +/- %.3f'\n",
    "    \n",
    "    print(output1 % (np.mean(train_scores[:,1])*100,np.std(train_scores[:,1])*100,np.mean(val_scores[:,1])*100,np.std(val_scores[:,1])*100))\n",
    "    print(output2 % (np.mean(train_scores[:,0]),np.std(train_scores[:,0]),np.mean(val_scores[:,0]),np.std(val_scores[:,0])))\n",
    "    avg_preds = preds.mean(axis=0)\n",
    "    \n",
    "    assert avg_preds.shape[0] == X_t.shape[0], f\"Shape mismatch, {avg_preds.shape[0]} predictions found while test set has {xtst.shape[0]} rows\"\n",
    "    \n",
    "    return avg_preds"
   ]
  },
  {
   "cell_type": "code",
   "execution_count": 56,
   "id": "bc1eb404",
   "metadata": {},
   "outputs": [
    {
     "name": "stderr",
     "output_type": "stream",
     "text": [
      "1it [05:36, 336.28s/it]"
     ]
    },
    {
     "name": "stdout",
     "output_type": "stream",
     "text": [
      "(Out1)>>>ACC:> Train: 55.138    Val: 55.480\n",
      "(Out2)>>>MSE:> Train: 744.159    Val: 551.907\n"
     ]
    },
    {
     "name": "stderr",
     "output_type": "stream",
     "text": [
      "2it [10:39, 316.58s/it]"
     ]
    },
    {
     "name": "stdout",
     "output_type": "stream",
     "text": [
      "(Out1)>>>ACC:> Train: 54.634    Val: 54.873\n",
      "(Out2)>>>MSE:> Train: 673.616    Val: 1146.861\n"
     ]
    },
    {
     "name": "stderr",
     "output_type": "stream",
     "text": [
      "3it [15:33, 306.36s/it]"
     ]
    },
    {
     "name": "stdout",
     "output_type": "stream",
     "text": [
      "(Out1)>>>ACC:> Train: 33.881    Val: 33.131\n",
      "(Out2)>>>MSE:> Train: 731.997    Val: 700.028\n"
     ]
    },
    {
     "name": "stderr",
     "output_type": "stream",
     "text": [
      "4it [20:03, 292.12s/it]"
     ]
    },
    {
     "name": "stdout",
     "output_type": "stream",
     "text": [
      "(Out1)>>>ACC:> Train: 60.553    Val: 62.085\n",
      "(Out2)>>>MSE:> Train: 730.991    Val: 762.640\n"
     ]
    },
    {
     "name": "stderr",
     "output_type": "stream",
     "text": [
      "5it [23:31, 261.83s/it]"
     ]
    },
    {
     "name": "stdout",
     "output_type": "stream",
     "text": [
      "(Out1)>>>ACC:> Train: 57.911    Val: 59.122\n",
      "(Out2)>>>MSE:> Train: 740.949    Val: 792.801\n"
     ]
    },
    {
     "name": "stderr",
     "output_type": "stream",
     "text": [
      "6it [28:01, 264.44s/it]"
     ]
    },
    {
     "name": "stdout",
     "output_type": "stream",
     "text": [
      "(Out1)>>>ACC:> Train: 58.387    Val: 58.229\n",
      "(Out2)>>>MSE:> Train: 734.187    Val: 877.629\n"
     ]
    },
    {
     "name": "stderr",
     "output_type": "stream",
     "text": [
      "7it [31:34, 247.65s/it]"
     ]
    },
    {
     "name": "stdout",
     "output_type": "stream",
     "text": [
      "(Out1)>>>ACC:> Train: 52.420    Val: 52.303\n",
      "(Out2)>>>MSE:> Train: 730.690    Val: 704.257\n"
     ]
    },
    {
     "name": "stderr",
     "output_type": "stream",
     "text": [
      "8it [34:36, 226.78s/it]"
     ]
    },
    {
     "name": "stdout",
     "output_type": "stream",
     "text": [
      "(Out1)>>>ACC:> Train: 53.965    Val: 55.714\n",
      "(Out2)>>>MSE:> Train: 733.241    Val: 697.872\n"
     ]
    },
    {
     "name": "stderr",
     "output_type": "stream",
     "text": [
      "9it [38:19, 225.71s/it]"
     ]
    },
    {
     "name": "stdout",
     "output_type": "stream",
     "text": [
      "(Out1)>>>ACC:> Train: 66.291    Val: 65.321\n",
      "(Out2)>>>MSE:> Train: 712.361    Val: 1091.523\n"
     ]
    },
    {
     "name": "stderr",
     "output_type": "stream",
     "text": [
      "10it [41:19, 247.95s/it]"
     ]
    },
    {
     "name": "stdout",
     "output_type": "stream",
     "text": [
      "(Out1)>>>ACC:> Train: 52.335    Val: 51.821\n",
      "(Out2)>>>MSE:> Train: 753.331    Val: 564.664\n",
      "(Out1)>>>ACC:> AvgTrain: 54.551 +/- 7.983    AvgVal: 54.808 +/- 8.247\n",
      "(Out2)>>>MSE:> AvgTrain: 728.552 +/- 20.899    AvgVal: 789.018 +/- 189.233\n"
     ]
    },
    {
     "name": "stderr",
     "output_type": "stream",
     "text": [
      "\n"
     ]
    }
   ],
   "source": [
    "nn_preds = cross_val_predict(splits=10, epochs=20)"
   ]
  },
  {
   "cell_type": "markdown",
   "id": "3f612228",
   "metadata": {},
   "source": [
    "## Create submission"
   ]
  },
  {
   "cell_type": "code",
   "execution_count": 59,
   "id": "f6319e3f",
   "metadata": {
    "tags": []
   },
   "outputs": [],
   "source": [
    "ss[\"Target\"] = nn_preds.flatten()"
   ]
  },
  {
   "cell_type": "code",
   "execution_count": 60,
   "id": "6c6d8954",
   "metadata": {
    "tags": []
   },
   "outputs": [],
   "source": [
    "ss.to_csv('submissions/submission_nn4.csv', index=False)"
   ]
  },
  {
   "cell_type": "markdown",
   "id": "45a7b4e1",
   "metadata": {},
   "source": [
    "### some insights\n",
    "\n",
    "1. !!! You must then build a machine learning model that returns the expected future payments for `n` months ahead !!! (Make sure one will be able to predict for more steps with your model and `set n=6 for this competition`)⚠️\n",
    "\n",
    "2. Building a loan status predictor is highly recommended (likelihood of being a good/bad payer)✅\n",
    "\n",
    "3. gradient boosting? random forest? reccurent net? even use an ensemble of many models. be creative 💡!\n",
    "\n",
    "4. Cross validation ? why not 🤷🏾‍♂️\n",
    "\n",
    "5. You can even try a Seq2Seq model : [resource](https://awaywithideas.com/keras-implementation-of-a-sequence-to-sequence-model-for-time-series-prediction-using-an-encoder-decoder-architecture/)"
   ]
  }
 ],
 "metadata": {
  "kernelspec": {
   "display_name": "Python 3",
   "language": "python",
   "name": "python3"
  },
  "language_info": {
   "codemirror_mode": {
    "name": "ipython",
    "version": 3
   },
   "file_extension": ".py",
   "mimetype": "text/x-python",
   "name": "python",
   "nbconvert_exporter": "python",
   "pygments_lexer": "ipython3",
   "version": "3.8.5"
  },
  "widgets": {
   "application/vnd.jupyter.widget-state+json": {
    "state": {},
    "version_major": 2,
    "version_minor": 0
   }
  }
 },
 "nbformat": 4,
 "nbformat_minor": 5
}
